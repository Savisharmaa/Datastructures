{
  "nbformat": 4,
  "nbformat_minor": 0,
  "metadata": {
    "colab": {
      "provenance": []
    },
    "kernelspec": {
      "name": "python3",
      "display_name": "Python 3"
    },
    "language_info": {
      "name": "python"
    }
  },
  "cells": [
    {
      "cell_type": "markdown",
      "source": [
        "**Ques. What are data structures, and why are they important?**\n",
        "\n",
        "**Ans.**  Data structure is the way of organizing and storing data so that it can be accessed and manipulated.\n",
        "It is important because it helps to store data logically,it reduces the time and memory required for program. It speed up the performance.\n",
        "\n",
        " **Ques. Explain the difference between mutable and immutable data types with examples**\n",
        "\n",
        " **Ans.** If values can be changed after creation, then it is known as mutable. example: list\n",
        "If values cannot be changed after creation, then it is known as immutable. example: tuple\n",
        "\n",
        " **Ques.What are the main differences between lists and tuples in Python?**\n",
        "\n",
        " **Ans.** Lists are ordered mutable collection of element while tuples are ordered immutable collection of elements. i.e. once elements are inserted it can get modify in lists but cannot be changed in tuple.\n",
        "\n",
        "**Ques. Describe how dictionaries store data.**\n",
        "\n",
        "**Ans.** Dictionaries stores the data in the form key value pair.\n",
        "Example: dict = {\"name\": \"abc\"}\n",
        "\n",
        " **Ques. Why might you use a set instead of a list in Python?**\n",
        "\n",
        " **Ans.** set is preferred if we need no duplicates, and need to perform operations like intersection, union.\n",
        "\n",
        " **Ques.  What is a string in Python, and how is it different from a list?**\n",
        "\n",
        " **Ans.** strings are sequence of characters inserted in quotes (' ').\n",
        " It is different from as strings are immutable and lists are mutable.\n",
        "\n",
        " **Ques. How do tuples ensure data integrity in Python?**\n",
        "\n",
        " **Ans.** tuples are immutable, ensures efficiency due to it's fix size. it provides ordered data, sequemce of data cannot be changed.\n",
        "\n",
        "**Ques. What is a hash table, and how does it relate to dictionaries in Python**\n",
        "\n",
        "**Ans.** A hash table is a data structure that allows you to store and retrive value using key. Dictionary uses hash table internally.\n",
        "\n",
        "**Ques. Can lists contain different data types in Python?**\n",
        "\n",
        "**Ans.** Yes. list can contain any data tye, whether it is string, integer, float or boolean value.\n",
        "\n",
        " **Ques.Explain why strings are immutable in Python.**\n",
        "\n",
        " ** Ans. ** strings are immutable for various reasons:\n",
        " 1. It save space in memory.\n",
        " 2. Performance improved.\n",
        " 3. It avoid unexpected changes.\n",
        "\n",
        " **Ques. What advantages do dictionaries offer over lists for certain tasks**\n",
        "\n",
        "**Ans.** dictionary accessed by key while list accessed by index, keys in dictionary must be unique whereas in list values can be repeated.\n",
        "\n",
        " **Ques.How do sets handle duplicate values in Python?**\n",
        "\n",
        " **Ans.** set is an unordered collection of data. It automatically removes the duplicate data.\n",
        "\n",
        " **Ques. Describe a scenario where using a tuple would be preferable over a list.**\n",
        "\n",
        " **Ans.** Tuple is preferred when we want fixed orderd values that should not be changed throughout.\n",
        " i.e. if we enter someone's aadhar card number, that cannot be changed.\n",
        "\n",
        "**Ques. How does the “in” keyword work differently for lists and dictionaries?**\n",
        "\n",
        "**Ans.** The 'in' keyword find value in lists and find key in dictionary.\n",
        "\n",
        " **Ques. Can you modify the elements of a tuple? Explain why or why not**\n",
        " **Ans.** No, we cannot modify tuple because it is immutable. Hence, it cannot be change after creation. It remains constant throughout.\n",
        "\n",
        "**Ques. What is a nested dictionary, and give an example of its use case**\n",
        "\n",
        "**Ans.** Nested dictionary means dictionary within dictionary, it is used when we need to group data or create hierarchy.\n",
        "\n",
        "**Ques. Describe the time complexity of accessing elements in a dictionary.**\n",
        "\n",
        "**Ans.**\n",
        "\n",
        "**Ques. In what situations are lists preferred over dictionaries?**\n",
        "\n",
        "**Ans.** Lists are preffered when order of elements matter, when we are storing data of similar items or when we don't need to assign value with it's key.\n",
        "\n",
        " **Ques. Why are dictionaries considered unordered, and how does that affect data retrieval?**\n",
        "\n",
        " **Ans.** A dictionary is termed an unordered collection of objects because dictionaries do not maintain any inherent order of the items based on when they were added.\n",
        "\n",
        " **Ques. Explain the difference between a list and a dictionary in terms of data retrieval.**\n",
        "\n",
        " **Ans.** Data is retrieved in list by numeric index while in dictionary it is retrieved by key index."
      ],
      "metadata": {
        "id": "nIYjpeOig-FL"
      }
    },
    {
      "cell_type": "code",
      "source": [
        " \"\"\"1. Write a code to create a string with your name and print it\"\"\"\n",
        " name = \"Savi\"\n",
        " print(name)"
      ],
      "metadata": {
        "colab": {
          "base_uri": "https://localhost:8080/"
        },
        "id": "K28TD55IhBcR",
        "outputId": "a3e906d5-16ab-4a4a-c95e-19a01080a3de"
      },
      "execution_count": null,
      "outputs": [
        {
          "output_type": "stream",
          "name": "stdout",
          "text": [
            "Savi\n"
          ]
        }
      ]
    },
    {
      "cell_type": "code",
      "source": [
        "\"\"\" 2. Write a code to find the length of the string \"Hello World\"\"\"\n",
        "str = \"Hello World\"\n",
        "print(len(str))"
      ],
      "metadata": {
        "colab": {
          "base_uri": "https://localhost:8080/"
        },
        "id": "e3H9TIqIhVOs",
        "outputId": "58a9e09b-7c0e-4af9-c325-0857b07307b8"
      },
      "execution_count": null,
      "outputs": [
        {
          "output_type": "stream",
          "name": "stdout",
          "text": [
            "11\n"
          ]
        }
      ]
    },
    {
      "cell_type": "code",
      "source": [
        "\"\"\"3. Write a code to slice the first 3 characters from the string \"Python\n",
        "Programming\"\"\"\n",
        "a = \"Hello World\"\n",
        "print(a[0:3])"
      ],
      "metadata": {
        "colab": {
          "base_uri": "https://localhost:8080/"
        },
        "id": "Iykhzqnchxe3",
        "outputId": "d191ff95-7736-400a-a8e2-a480fdefe455"
      },
      "execution_count": null,
      "outputs": [
        {
          "output_type": "stream",
          "name": "stdout",
          "text": [
            "Hel\n"
          ]
        }
      ]
    },
    {
      "cell_type": "code",
      "source": [
        "\"\"\"4. Write a code to convert the string \"hello\" to uppercase\"\"\"\n",
        "a = \"hello\"\n",
        "print(a.upper())"
      ],
      "metadata": {
        "colab": {
          "base_uri": "https://localhost:8080/"
        },
        "id": "H0UjuX8viLt-",
        "outputId": "ef3e512b-a502-42dc-a192-aed42c0dd730"
      },
      "execution_count": null,
      "outputs": [
        {
          "output_type": "stream",
          "name": "stdout",
          "text": [
            "HELLO\n"
          ]
        }
      ]
    },
    {
      "cell_type": "code",
      "source": [
        "\"\"\"5. Write a code to replace the word \"apple\" with \"orange\" in the string \"I like apple\"\"\"\n",
        "str = \"I like apple\"\n",
        "fruit = str.replace(\"apple\",\"orange\")\n",
        "print(fruit)"
      ],
      "metadata": {
        "colab": {
          "base_uri": "https://localhost:8080/"
        },
        "id": "vhotiiITijbp",
        "outputId": "e7b9037a-c95d-49a5-9ca6-40f1a3defb9e"
      },
      "execution_count": null,
      "outputs": [
        {
          "output_type": "stream",
          "name": "stdout",
          "text": [
            "I like orange\n"
          ]
        }
      ]
    },
    {
      "cell_type": "code",
      "source": [
        "\"\"\"6. Write a code to create a list with numbers 1 to 5 and print it\"\"\"\n",
        "mylist = [1,2,3,4,5]\n",
        "print(mylist)\n"
      ],
      "metadata": {
        "colab": {
          "base_uri": "https://localhost:8080/"
        },
        "id": "vJhjb9gnjC8y",
        "outputId": "4b694803-991e-435f-bfbc-6f0d8a7db308"
      },
      "execution_count": null,
      "outputs": [
        {
          "output_type": "stream",
          "name": "stdout",
          "text": [
            "[1, 2, 3, 4, 5]\n"
          ]
        }
      ]
    },
    {
      "cell_type": "code",
      "source": [
        "\"\"\"7. Write a code to append the number 10 to the list [1, 2, 3, 4]\"\"\"\n",
        "lst = [1,2,3,4]\n",
        "lst.append(10)\n",
        "print(lst)"
      ],
      "metadata": {
        "colab": {
          "base_uri": "https://localhost:8080/"
        },
        "id": "5iuaia_ijQsf",
        "outputId": "1f59b111-7ac2-4a8a-ce33-91e1c8bdbac5"
      },
      "execution_count": null,
      "outputs": [
        {
          "output_type": "stream",
          "name": "stdout",
          "text": [
            "[1, 2, 3, 4, 10]\n"
          ]
        }
      ]
    },
    {
      "cell_type": "code",
      "source": [
        "\"\"\"8. Write a code to remove the number 3 from the list [1, 2, 3, 4, 5]\"\"\"\n",
        "ls = [1,2,3,4,5]\n",
        "ls.remove(3)\n",
        "print(ls)"
      ],
      "metadata": {
        "colab": {
          "base_uri": "https://localhost:8080/"
        },
        "id": "xNVXo0ESu0am",
        "outputId": "44e2fa23-a425-4f6a-dbfc-d0b08061681e"
      },
      "execution_count": null,
      "outputs": [
        {
          "output_type": "stream",
          "name": "stdout",
          "text": [
            "[1, 2, 4, 5]\n"
          ]
        }
      ]
    },
    {
      "cell_type": "code",
      "source": [
        "\"\"\" 9. Write a code to access the second element in the list ['a', 'b', 'c', 'd']\"\"\"\n",
        "ls = ['a','b','c','d']\n",
        "print(ls[1])"
      ],
      "metadata": {
        "colab": {
          "base_uri": "https://localhost:8080/"
        },
        "id": "GV4FsbMcvV9r",
        "outputId": "162c28d5-8ccd-4ee4-863c-bd7854ed56e5"
      },
      "execution_count": null,
      "outputs": [
        {
          "output_type": "stream",
          "name": "stdout",
          "text": [
            "b\n"
          ]
        }
      ]
    },
    {
      "cell_type": "code",
      "source": [
        "\"\"\" 10.Write a code to reverse the list [10, 20, 30, 40, 50].\"\"\"\n",
        "ls = [10,20,30,40,50]\n",
        "ls.reverse()\n",
        "print(ls)"
      ],
      "metadata": {
        "colab": {
          "base_uri": "https://localhost:8080/"
        },
        "id": "jvvlnzxpIW3Z",
        "outputId": "241f95c8-7169-4b10-cd45-d501481282d8"
      },
      "execution_count": null,
      "outputs": [
        {
          "output_type": "stream",
          "name": "stdout",
          "text": [
            "[50, 40, 30, 20, 10]\n"
          ]
        }
      ]
    },
    {
      "cell_type": "code",
      "source": [
        "\"\"\"11. Write a code to create a tuple with the elements 100, 200, 300 and print it.\"\"\"\n",
        "tp = (100,200,300)\n",
        "print(tp)"
      ],
      "metadata": {
        "colab": {
          "base_uri": "https://localhost:8080/"
        },
        "id": "j_wSYr9UIoUe",
        "outputId": "027cd08d-2414-479f-a786-099d39e73ce1"
      },
      "execution_count": null,
      "outputs": [
        {
          "output_type": "stream",
          "name": "stdout",
          "text": [
            "(100, 200, 300)\n"
          ]
        }
      ]
    },
    {
      "cell_type": "code",
      "source": [
        " \"\"\"12. Write a code to access the second-to-last element of the tuple ('red', 'green', 'blue', 'yellow').\"\"\"\n",
        "t = (\"red\",\"green\",\"blue\",\"yellow\")\n",
        "print(t[-2])\n"
      ],
      "metadata": {
        "colab": {
          "base_uri": "https://localhost:8080/"
        },
        "id": "MtQXpS0ZI20_",
        "outputId": "d96d2aea-87f8-426c-cc00-23dcd9935ff1"
      },
      "execution_count": null,
      "outputs": [
        {
          "output_type": "stream",
          "name": "stdout",
          "text": [
            "blue\n"
          ]
        }
      ]
    },
    {
      "cell_type": "code",
      "source": [
        " \"\"\"13. Write a code to find the minimum number in the tuple (10, 20, 5, 15).\"\"\"\n",
        "t = (10,20,5,15)\n",
        "a = min(t)\n",
        "print(a)"
      ],
      "metadata": {
        "id": "yIBTBSTGJqyS",
        "colab": {
          "base_uri": "https://localhost:8080/"
        },
        "outputId": "7aafe229-8b99-4952-a5fa-7258e75ec130"
      },
      "execution_count": null,
      "outputs": [
        {
          "output_type": "stream",
          "name": "stdout",
          "text": [
            "5\n"
          ]
        }
      ]
    },
    {
      "cell_type": "code",
      "source": [
        "\"\"\" 14. Write a code to find the index of the element \"cat\" in the tuple ('dog', 'cat', 'rabbit').\"\"\"\n",
        "a = (\"dog\",\"cat\",\"rabbit\")\n",
        "i = a.index(\"cat\")\n",
        "print(i)"
      ],
      "metadata": {
        "colab": {
          "base_uri": "https://localhost:8080/"
        },
        "id": "LIDt1VQ6tT5W",
        "outputId": "de8f7e6e-9d74-4ecd-eeb5-01c3ad30e1f1"
      },
      "execution_count": null,
      "outputs": [
        {
          "output_type": "stream",
          "name": "stdout",
          "text": [
            "1\n"
          ]
        }
      ]
    },
    {
      "cell_type": "code",
      "source": [
        "\"\"\" 15. Write a code to create a tuple containing three different fruits and check if \"kiwi\" is in it.\"\"\"\n",
        "a = (\"banana\", \"apple\", \"kiwi\")\n",
        "if \"kiwi\" in a:\n",
        "  print(\"yes, kiwi is present in list\")\n",
        "else:\n",
        "  print(\"no, kiwi is not present\")"
      ],
      "metadata": {
        "colab": {
          "base_uri": "https://localhost:8080/"
        },
        "id": "Y01I103ltcUl",
        "outputId": "8be72ef2-427e-458c-9192-98cb1aa9bdbe"
      },
      "execution_count": null,
      "outputs": [
        {
          "output_type": "stream",
          "name": "stdout",
          "text": [
            "yes, kiwi is present in list\n"
          ]
        }
      ]
    },
    {
      "cell_type": "code",
      "source": [
        "\"\"\" 16. Write a code to create a set with the elements 'a', 'b', 'c' and print it.\"\"\"\n",
        "s = {'a','b','c'}\n",
        "print(s)"
      ],
      "metadata": {
        "colab": {
          "base_uri": "https://localhost:8080/"
        },
        "id": "4UJR4ch1tfr5",
        "outputId": "06949efc-40e1-4fb4-d995-3d27f4af8be6"
      },
      "execution_count": null,
      "outputs": [
        {
          "output_type": "stream",
          "name": "stdout",
          "text": [
            "{'a', 'c', 'b'}\n"
          ]
        }
      ]
    },
    {
      "cell_type": "code",
      "source": [
        "\"\"\" 17. Write a code to clear all elements from the set {1, 2, 3, 4, 5}.\"\"\"\n",
        "a = {1,2,3,4,5}\n",
        "a.clear()\n",
        "print(a)"
      ],
      "metadata": {
        "colab": {
          "base_uri": "https://localhost:8080/"
        },
        "id": "EdkK2ofvv7V7",
        "outputId": "09d1b73f-6891-4028-8154-87e04c9caa5a"
      },
      "execution_count": null,
      "outputs": [
        {
          "output_type": "stream",
          "name": "stdout",
          "text": [
            "set()\n"
          ]
        }
      ]
    },
    {
      "cell_type": "markdown",
      "source": [],
      "metadata": {
        "id": "11DaWr5mwlLF"
      }
    },
    {
      "cell_type": "code",
      "source": [
        "\"\"\" 18. Write a code to remove the element 4 from the set {1, 2, 3, 4}.\"\"\"\n",
        "a = {1,2,3,4}\n",
        "a.remove(4)\n",
        "print(a)"
      ],
      "metadata": {
        "colab": {
          "base_uri": "https://localhost:8080/"
        },
        "id": "y1e81Qz4wSnf",
        "outputId": "9606d401-634f-464c-856f-36a245bb422d"
      },
      "execution_count": null,
      "outputs": [
        {
          "output_type": "stream",
          "name": "stdout",
          "text": [
            "{1, 2, 3}\n"
          ]
        }
      ]
    },
    {
      "cell_type": "code",
      "source": [
        "\"\"\" 19. Write a code to find the union of two sets {1, 2, 3} and {3, 4, 5}.\"\"\"\n",
        "a = {1,2,3}\n",
        "b = {3,4,5}\n",
        "print(a|b)"
      ],
      "metadata": {
        "colab": {
          "base_uri": "https://localhost:8080/"
        },
        "id": "frTmH70Hwund",
        "outputId": "1033c947-eb8b-4d99-856a-5ea59377e72d"
      },
      "execution_count": null,
      "outputs": [
        {
          "output_type": "stream",
          "name": "stdout",
          "text": [
            "{1, 2, 3, 4, 5}\n"
          ]
        }
      ]
    },
    {
      "cell_type": "code",
      "source": [
        "\"\"\" 20. Write a code to find the intersection of two sets {1, 2, 3} and {2, 3, 4}.\"\"\"\n",
        "a = {1,2,3}\n",
        "b = {2,3,4}\n",
        "print(a&b)"
      ],
      "metadata": {
        "colab": {
          "base_uri": "https://localhost:8080/"
        },
        "id": "IAfKald1w8jN",
        "outputId": "38507102-ae05-4e8a-8697-7129f7d72d93"
      },
      "execution_count": null,
      "outputs": [
        {
          "output_type": "stream",
          "name": "stdout",
          "text": [
            "{2, 3}\n"
          ]
        }
      ]
    },
    {
      "cell_type": "code",
      "source": [
        "\"\"\" 21. Write a code to create a dictionary with the keys \"name\", \"age\", and \"city\", and print it.\"\"\"\n",
        "a = {\"name\": \"abc\", \"age\": 25, \"city\": \"delhi\"}\n",
        "print(a)"
      ],
      "metadata": {
        "colab": {
          "base_uri": "https://localhost:8080/"
        },
        "id": "eQsxiY1qxNVU",
        "outputId": "2cfd082a-50ee-408a-9567-e9e5cf9afee0"
      },
      "execution_count": null,
      "outputs": [
        {
          "output_type": "stream",
          "name": "stdout",
          "text": [
            "{'name': 'abc', 'age': 25, 'city': 'delhi'}\n"
          ]
        }
      ]
    },
    {
      "cell_type": "code",
      "source": [
        "\"\"\" 22. Write a code to add a new key-value pair \"country\": \"USA\" to the dictionary {'name': 'John', 'age': 25}.\"\"\"\n",
        "d = {'name':'John', 'age': 25}\n",
        "d['country'] = 'USA'\n",
        "print(d)"
      ],
      "metadata": {
        "colab": {
          "base_uri": "https://localhost:8080/"
        },
        "id": "1x1SH2Lxxzub",
        "outputId": "0c9592ad-ab23-494f-8f90-15c37cab22cd"
      },
      "execution_count": null,
      "outputs": [
        {
          "output_type": "stream",
          "name": "stdout",
          "text": [
            "{'name': 'John', 'age': 25, 'country': 'USA'}\n"
          ]
        }
      ]
    },
    {
      "cell_type": "code",
      "source": [
        "\"\"\" 23. Write a code to access the value associated with the key \"name\" in the dictionary {'name': 'Alice', 'age': 30}.\"\"\"\n",
        "d = {'name': 'Alice', 'age': 30}\n",
        "a = d['name']\n",
        "print(a)"
      ],
      "metadata": {
        "id": "PqxCPF8RylZi",
        "colab": {
          "base_uri": "https://localhost:8080/"
        },
        "outputId": "a0ae8353-ce02-44e3-9d4f-54e94e4803d2"
      },
      "execution_count": null,
      "outputs": [
        {
          "output_type": "stream",
          "name": "stdout",
          "text": [
            "Alice\n"
          ]
        }
      ]
    },
    {
      "cell_type": "code",
      "source": [
        " \"\"\"24. Write a code to remove the key \"age\" from the dictionary {'name': 'Bob', 'age': 22, 'city': 'New York'}.\"\"\"\n",
        "a = {'name': 'Bob', 'age': 22, 'city': 'New York'}\n",
        "a.pop('age')\n",
        "print(a)"
      ],
      "metadata": {
        "colab": {
          "base_uri": "https://localhost:8080/"
        },
        "id": "C2DDsVLozINK",
        "outputId": "94fdf9be-d762-4700-acca-7a0001fb468f"
      },
      "execution_count": null,
      "outputs": [
        {
          "output_type": "stream",
          "name": "stdout",
          "text": [
            "{'name': 'Bob', 'city': 'New York'}\n"
          ]
        }
      ]
    },
    {
      "cell_type": "code",
      "source": [
        "\"\"\" 25. Write a code to check if the key \"city\" exists in the dictionary {'name': 'Alice', 'city': 'Paris'}.\"\"\"\n",
        "a = {'name': 'Alice', 'city': 'Paris'}\n",
        "if \"city\" in a:\n",
        "  print(\"yes, it is present\")\n",
        "else:\n",
        "  print(\"no, it is not present\")"
      ],
      "metadata": {
        "colab": {
          "base_uri": "https://localhost:8080/"
        },
        "id": "OAbf5wvSzlSB",
        "outputId": "efd73213-b4b4-49e5-f67d-2abba61d65ad"
      },
      "execution_count": null,
      "outputs": [
        {
          "output_type": "stream",
          "name": "stdout",
          "text": [
            "yes, it is present\n"
          ]
        }
      ]
    },
    {
      "cell_type": "code",
      "source": [
        "\"\"\" 26. Write a code to create a list, a tuple, and a dictionary, and print them all.\"\"\"\n",
        "ls = [1,2,3]\n",
        "tp = (4,5,6)\n",
        "dt = {'a': 1, 'b': 2, 'c': 3}\n",
        "print('list: ', ls)\n",
        "print('tuple: ', tp)\n",
        "print('dictionary: ', dt)"
      ],
      "metadata": {
        "colab": {
          "base_uri": "https://localhost:8080/"
        },
        "id": "I7EFnFYN0j3Y",
        "outputId": "d75ce5fe-fb1f-45cb-f2c6-365ac2bcf77d"
      },
      "execution_count": null,
      "outputs": [
        {
          "output_type": "stream",
          "name": "stdout",
          "text": [
            "list:  [1, 2, 3]\n",
            "tuple:  (4, 5, 6)\n",
            "dictionary:  {'a': 1, 'b': 2, 'c': 3}\n"
          ]
        }
      ]
    },
    {
      "cell_type": "code",
      "source": [
        "\"\"\" 27. Write a code to create a list of 5 random numbers between 1 and 100, sort it in ascending order, and print the result(replaced)\"\"\"\n",
        "a = [1,35,20,85,75]\n",
        "a.sort()\n",
        "print(a)"
      ],
      "metadata": {
        "colab": {
          "base_uri": "https://localhost:8080/"
        },
        "id": "4pi17mi_1DAE",
        "outputId": "a51c5330-8d97-4e40-aa94-cce74f16ce93"
      },
      "execution_count": null,
      "outputs": [
        {
          "output_type": "stream",
          "name": "stdout",
          "text": [
            "[1, 20, 35, 75, 85]\n"
          ]
        }
      ]
    },
    {
      "cell_type": "code",
      "source": [
        "\"\"\"28. Write a code to create a list with strings and print the element at the third index.\"\"\"\n",
        "a = ['hello', 'world', 'good', 'morning']\n",
        "print(a[3])"
      ],
      "metadata": {
        "colab": {
          "base_uri": "https://localhost:8080/"
        },
        "id": "w8slr3O91YEO",
        "outputId": "cfed350a-bb4b-4961-d2ce-bdc7fadeb819"
      },
      "execution_count": null,
      "outputs": [
        {
          "output_type": "stream",
          "name": "stdout",
          "text": [
            "morning\n"
          ]
        }
      ]
    },
    {
      "cell_type": "code",
      "source": [
        "\"\"\" 29. Write a code to combine two dictionaries into one and print the result.\"\"\"\n",
        "d = {'name': 'abc', 'age': 25}\n",
        "d1 = {'city':'delhi'}\n",
        "d.update(d1)\n",
        "print(d)"
      ],
      "metadata": {
        "colab": {
          "base_uri": "https://localhost:8080/"
        },
        "id": "XLEAKbe7176g",
        "outputId": "cee9927b-9c58-4805-8873-54c63a65831e"
      },
      "execution_count": null,
      "outputs": [
        {
          "output_type": "stream",
          "name": "stdout",
          "text": [
            "{'name': 'abc', 'age': 25, 'city': 'delhi'}\n"
          ]
        }
      ]
    },
    {
      "cell_type": "code",
      "source": [
        "\"\"\" 30. Write a code to convert a list of strings into a set.\"\"\"\n",
        "a = [1,2,3,4,5]\n",
        "b = set(a)\n",
        "print('set: ', b)"
      ],
      "metadata": {
        "colab": {
          "base_uri": "https://localhost:8080/"
        },
        "id": "2YnuzvzT2sXn",
        "outputId": "c74a9bda-acb5-4e55-8d09-c995d6503b2e"
      },
      "execution_count": null,
      "outputs": [
        {
          "output_type": "stream",
          "name": "stdout",
          "text": [
            "set:  {1, 2, 3, 4, 5}\n"
          ]
        }
      ]
    }
  ]
}