{
  "nbformat": 4,
  "nbformat_minor": 0,
  "metadata": {
    "colab": {
      "provenance": []
    },
    "kernelspec": {
      "name": "python3",
      "display_name": "Python 3"
    },
    "language_info": {
      "name": "python"
    }
  },
  "cells": [
    {
      "cell_type": "markdown",
      "source": [
        " 1. **What is the difference between a function and a method in Python?**\n",
        " **Ans.** Function is defined outside the class while methids defined inside class. function is claeed by its name and method is called by object.\n",
        " **Function example:**\n",
        "\n",
        " def greet(name):\n",
        "\n",
        "    return f\"Hello, {name}!\"\n",
        "\n",
        "print(greet(\"Alice\"))\n",
        "\n",
        "**Method Example**\n",
        "\n",
        "class Greeter:\n",
        "\n",
        "    def greet(self, name):\n",
        "\n",
        "        return f\"Hello, {name}!\"\n",
        "\n",
        "g = Greeter()\n",
        "\n",
        "print(g.greet(\"Bob\"))\n",
        "\n",
        " 2.**Explain the concept of function arguments and parameters in Python.**\n",
        "\n",
        " **Ans.**The variable name in function is parameter and actual values passed to a function is argument.\n",
        "\n",
        "Example:\n",
        "\n",
        " def greet(name):\n",
        "\n",
        "    return f\"Hello, {name}!\"\n",
        "\n",
        "print(greet(\"Alice\"))\n",
        "\n",
        "Here, name is parameter ad Alice is argument.\n",
        "\n",
        " 3.**What are the different ways to define and call a function in Python?**\n",
        "  \n",
        "**Ans.** There are various ways to define function.\n",
        "\n",
        "1. Using def keyword.\n",
        "\n",
        "def greet()\n",
        "2. using default arguments.\n",
        "\n",
        " def greet(name, age = 20)\n",
        "3.  using **args, **kwargs\n",
        "\n",
        "  def greet(**args, **kwargs)\n",
        "\n",
        "To call a function, we can use\n",
        "\n",
        "1. simple call\n",
        "\n",
        " greet(\"alice\")\n",
        "\n",
        "2. positional and keyword argument\n",
        "\n",
        "greet(\"Alice\", \"Wonderland\")           \n",
        "greet(name=\"Alice\", greeting=\"Wonderland\")\n",
        "\n",
        "3. calling using args and kwargs\n",
        "\n",
        "args = (\"Alice\",)\n",
        "kwargs = {\"greeting\": \"Hello\"}\n",
        "\n",
        "greet(*args, **kwargs)\n",
        "\n",
        "4. Recursive call\n",
        "  \n",
        "  function call itself.\n",
        "\n",
        "**Ques.What is the purpose of the `return` statement in a Python function?**\n",
        "\n",
        " **Ans.** The return statement in a Python function is used to send a value back to the caller of the function and exit the function at that point.\n",
        "\n",
        "\n",
        "**Ques. What are iterators in Python and how do they differ from iterables?**\n",
        "\n",
        "  **Ans.** Iterators are represting a stream of data that allows you to looping through all the elements of a collection (like lists, tuples) one at a time, typically using a for loop.\n",
        "\n",
        "  Iterable is any python object/ sequential structure that is capable of returning its members on at a time.\n",
        "\n",
        "**Ques. Explain the concept of generators in Python and how they are defined.**\n",
        "\n",
        " **Ans.** A generator is a simpler way to create an iterator using a function with the yield keyword.\n",
        "\n",
        " **Ques. What are the advantages of using generators over regular functions?**\n",
        " **Ans.** Generators don't store the entire result in memory. They yield items one at a time, genrate values only when needed.\n",
        "\n",
        " **Ques. What is a lambda function in Python and when is it typically used?**\n",
        "\n",
        " **Ans.** Lambda functions are small, anonymous functions defined using the lambda keyword. They are used for creating small, throwaway functions without the need to formally define a function using def.\n",
        "Example:\n",
        "\n",
        "square = lambda x: x*x\n",
        "print(square(5)\n",
        "\n",
        " **Ques. Explain the purpose and usage of the `map()` function in Python.**\n",
        "\n",
        " **Ans.** The map function applies a given function to all items in an input iterable (like a list) and returns an iterator with the results.\n",
        "\n",
        "It is used to apply a function to all the items in an iterable.\n",
        "\n",
        "It is used to transform each item in an iterable by applying the specified function.\n",
        "\n",
        " **Ques. What is the difference between `map()`, `reduce()`, and `filter()` functions in Python?**\n",
        "\n",
        " **Ans.** The functions map(), reduce(), and filter() in Python are functional programming tools that process iterables.\n",
        "\n",
        " **Map()**\n",
        "\n",
        " Applies a function to each item in an iterable and returns a new iterable (map object).\n",
        "\n",
        "Syntax:\n",
        "\n",
        "map(function, iterable)\n",
        "\n",
        "**Reduce()**\n",
        "\n",
        "The reduce function from the functools module applies a given function cumulatively to the items of a sequence, from left to right, to reduce the sequence to a single value.\n",
        "\n",
        "Syntax:\n",
        "\n",
        "from functools import reduce\n",
        "\n",
        "reduce(function, iterable)\n",
        "\n",
        "**Filter()**\n",
        "\n",
        "The filter function constructs an iterator from elements of an iterable for which a specified function returns True.\n",
        "\n",
        "Syntax:\n",
        "\n",
        "filter(function, iterable)\n",
        "\n",
        "**Ques.Using pen & Paper write the internal mechanism for sum operation using  reduce function on this given list:[47,11,42,13];\n",
        "(Attach paper image for this answer) in doc or colab notebook**\n",
        "\n",
        "from functools import reduce\n",
        "reduce(lambda x,y : x+y,[47,11,42,13])\n"
      ],
      "metadata": {
        "id": "64YLk88ao7rp"
      }
    },
    {
      "cell_type": "code",
      "source": [
        "from google.colab import files\n",
        "uploaded = files.upload()\n"
      ],
      "metadata": {
        "colab": {
          "base_uri": "https://localhost:8080/",
          "height": 73
        },
        "id": "iB3oOmk8c5ZX",
        "outputId": "55129f26-d260-49d5-f797-49a80179537f"
      },
      "execution_count": 3,
      "outputs": [
        {
          "output_type": "display_data",
          "data": {
            "text/plain": [
              "<IPython.core.display.HTML object>"
            ],
            "text/html": [
              "\n",
              "     <input type=\"file\" id=\"files-2b5a77b7-7289-44f3-b354-b89002349a2f\" name=\"files[]\" multiple disabled\n",
              "        style=\"border:none\" />\n",
              "     <output id=\"result-2b5a77b7-7289-44f3-b354-b89002349a2f\">\n",
              "      Upload widget is only available when the cell has been executed in the\n",
              "      current browser session. Please rerun this cell to enable.\n",
              "      </output>\n",
              "      <script>// Copyright 2017 Google LLC\n",
              "//\n",
              "// Licensed under the Apache License, Version 2.0 (the \"License\");\n",
              "// you may not use this file except in compliance with the License.\n",
              "// You may obtain a copy of the License at\n",
              "//\n",
              "//      http://www.apache.org/licenses/LICENSE-2.0\n",
              "//\n",
              "// Unless required by applicable law or agreed to in writing, software\n",
              "// distributed under the License is distributed on an \"AS IS\" BASIS,\n",
              "// WITHOUT WARRANTIES OR CONDITIONS OF ANY KIND, either express or implied.\n",
              "// See the License for the specific language governing permissions and\n",
              "// limitations under the License.\n",
              "\n",
              "/**\n",
              " * @fileoverview Helpers for google.colab Python module.\n",
              " */\n",
              "(function(scope) {\n",
              "function span(text, styleAttributes = {}) {\n",
              "  const element = document.createElement('span');\n",
              "  element.textContent = text;\n",
              "  for (const key of Object.keys(styleAttributes)) {\n",
              "    element.style[key] = styleAttributes[key];\n",
              "  }\n",
              "  return element;\n",
              "}\n",
              "\n",
              "// Max number of bytes which will be uploaded at a time.\n",
              "const MAX_PAYLOAD_SIZE = 100 * 1024;\n",
              "\n",
              "function _uploadFiles(inputId, outputId) {\n",
              "  const steps = uploadFilesStep(inputId, outputId);\n",
              "  const outputElement = document.getElementById(outputId);\n",
              "  // Cache steps on the outputElement to make it available for the next call\n",
              "  // to uploadFilesContinue from Python.\n",
              "  outputElement.steps = steps;\n",
              "\n",
              "  return _uploadFilesContinue(outputId);\n",
              "}\n",
              "\n",
              "// This is roughly an async generator (not supported in the browser yet),\n",
              "// where there are multiple asynchronous steps and the Python side is going\n",
              "// to poll for completion of each step.\n",
              "// This uses a Promise to block the python side on completion of each step,\n",
              "// then passes the result of the previous step as the input to the next step.\n",
              "function _uploadFilesContinue(outputId) {\n",
              "  const outputElement = document.getElementById(outputId);\n",
              "  const steps = outputElement.steps;\n",
              "\n",
              "  const next = steps.next(outputElement.lastPromiseValue);\n",
              "  return Promise.resolve(next.value.promise).then((value) => {\n",
              "    // Cache the last promise value to make it available to the next\n",
              "    // step of the generator.\n",
              "    outputElement.lastPromiseValue = value;\n",
              "    return next.value.response;\n",
              "  });\n",
              "}\n",
              "\n",
              "/**\n",
              " * Generator function which is called between each async step of the upload\n",
              " * process.\n",
              " * @param {string} inputId Element ID of the input file picker element.\n",
              " * @param {string} outputId Element ID of the output display.\n",
              " * @return {!Iterable<!Object>} Iterable of next steps.\n",
              " */\n",
              "function* uploadFilesStep(inputId, outputId) {\n",
              "  const inputElement = document.getElementById(inputId);\n",
              "  inputElement.disabled = false;\n",
              "\n",
              "  const outputElement = document.getElementById(outputId);\n",
              "  outputElement.innerHTML = '';\n",
              "\n",
              "  const pickedPromise = new Promise((resolve) => {\n",
              "    inputElement.addEventListener('change', (e) => {\n",
              "      resolve(e.target.files);\n",
              "    });\n",
              "  });\n",
              "\n",
              "  const cancel = document.createElement('button');\n",
              "  inputElement.parentElement.appendChild(cancel);\n",
              "  cancel.textContent = 'Cancel upload';\n",
              "  const cancelPromise = new Promise((resolve) => {\n",
              "    cancel.onclick = () => {\n",
              "      resolve(null);\n",
              "    };\n",
              "  });\n",
              "\n",
              "  // Wait for the user to pick the files.\n",
              "  const files = yield {\n",
              "    promise: Promise.race([pickedPromise, cancelPromise]),\n",
              "    response: {\n",
              "      action: 'starting',\n",
              "    }\n",
              "  };\n",
              "\n",
              "  cancel.remove();\n",
              "\n",
              "  // Disable the input element since further picks are not allowed.\n",
              "  inputElement.disabled = true;\n",
              "\n",
              "  if (!files) {\n",
              "    return {\n",
              "      response: {\n",
              "        action: 'complete',\n",
              "      }\n",
              "    };\n",
              "  }\n",
              "\n",
              "  for (const file of files) {\n",
              "    const li = document.createElement('li');\n",
              "    li.append(span(file.name, {fontWeight: 'bold'}));\n",
              "    li.append(span(\n",
              "        `(${file.type || 'n/a'}) - ${file.size} bytes, ` +\n",
              "        `last modified: ${\n",
              "            file.lastModifiedDate ? file.lastModifiedDate.toLocaleDateString() :\n",
              "                                    'n/a'} - `));\n",
              "    const percent = span('0% done');\n",
              "    li.appendChild(percent);\n",
              "\n",
              "    outputElement.appendChild(li);\n",
              "\n",
              "    const fileDataPromise = new Promise((resolve) => {\n",
              "      const reader = new FileReader();\n",
              "      reader.onload = (e) => {\n",
              "        resolve(e.target.result);\n",
              "      };\n",
              "      reader.readAsArrayBuffer(file);\n",
              "    });\n",
              "    // Wait for the data to be ready.\n",
              "    let fileData = yield {\n",
              "      promise: fileDataPromise,\n",
              "      response: {\n",
              "        action: 'continue',\n",
              "      }\n",
              "    };\n",
              "\n",
              "    // Use a chunked sending to avoid message size limits. See b/62115660.\n",
              "    let position = 0;\n",
              "    do {\n",
              "      const length = Math.min(fileData.byteLength - position, MAX_PAYLOAD_SIZE);\n",
              "      const chunk = new Uint8Array(fileData, position, length);\n",
              "      position += length;\n",
              "\n",
              "      const base64 = btoa(String.fromCharCode.apply(null, chunk));\n",
              "      yield {\n",
              "        response: {\n",
              "          action: 'append',\n",
              "          file: file.name,\n",
              "          data: base64,\n",
              "        },\n",
              "      };\n",
              "\n",
              "      let percentDone = fileData.byteLength === 0 ?\n",
              "          100 :\n",
              "          Math.round((position / fileData.byteLength) * 100);\n",
              "      percent.textContent = `${percentDone}% done`;\n",
              "\n",
              "    } while (position < fileData.byteLength);\n",
              "  }\n",
              "\n",
              "  // All done.\n",
              "  yield {\n",
              "    response: {\n",
              "      action: 'complete',\n",
              "    }\n",
              "  };\n",
              "}\n",
              "\n",
              "scope.google = scope.google || {};\n",
              "scope.google.colab = scope.google.colab || {};\n",
              "scope.google.colab._files = {\n",
              "  _uploadFiles,\n",
              "  _uploadFilesContinue,\n",
              "};\n",
              "})(self);\n",
              "</script> "
            ]
          },
          "metadata": {}
        },
        {
          "output_type": "stream",
          "name": "stdout",
          "text": [
            "Saving Assignment.jpeg to Assignment.jpeg\n"
          ]
        }
      ]
    },
    {
      "cell_type": "code",
      "execution_count": null,
      "metadata": {
        "colab": {
          "base_uri": "https://localhost:8080/"
        },
        "id": "3Cbhjfw7liXq",
        "outputId": "c3a56ddd-9186-4579-ed3a-7625fa5f273a"
      },
      "outputs": [
        {
          "output_type": "stream",
          "name": "stdout",
          "text": [
            "24\n"
          ]
        }
      ],
      "source": [
        "\"\"\" 1. Write a Python function that takes a list of numbers as input and returns the sum of all even numbers in the list.\"\"\"\n",
        "def even(n):\n",
        "  return sum(i for i in n if i % 2 ==0)\n",
        "a = [1,2,3,4,5,10,8]\n",
        "print(even(a))"
      ]
    },
    {
      "cell_type": "code",
      "source": [
        "\"\"\" 2. Create a Python function that accepts a string and returns the reverse of that string.\"\"\"\n",
        "def rev(a):\n",
        "  return a[::-1]\n",
        "s = \"hello world\"\n",
        "print(rev(s))"
      ],
      "metadata": {
        "colab": {
          "base_uri": "https://localhost:8080/"
        },
        "id": "WulaCU2JLuNA",
        "outputId": "6d396411-e5e5-42ca-acd5-5db768e9471a"
      },
      "execution_count": null,
      "outputs": [
        {
          "output_type": "stream",
          "name": "stdout",
          "text": [
            "dlrow olleh\n"
          ]
        }
      ]
    },
    {
      "cell_type": "code",
      "source": [
        "\"\"\" 3. Implement a Python function that takes a list of integers and returns a new list containing the squares of each number\"\"\"\n",
        "def sqr(a):\n",
        "  return [i**2 for i in a]\n",
        "lst = [2,3,4,5,6]\n",
        "print(sqr(lst))"
      ],
      "metadata": {
        "colab": {
          "base_uri": "https://localhost:8080/"
        },
        "id": "mmdPS2IOMYOf",
        "outputId": "28fabc26-7bdd-4d03-e94e-1991087d6884"
      },
      "execution_count": null,
      "outputs": [
        {
          "output_type": "stream",
          "name": "stdout",
          "text": [
            "[4, 9, 16, 25, 36]\n"
          ]
        }
      ]
    },
    {
      "cell_type": "code",
      "source": [
        "\"\"\" 4. Write a Python function that checks if a given number is prime or not from 1 to 200.\"\"\"\n",
        "def prm(n):\n",
        " if n <=1:\n",
        "   return False\n",
        " for i in range(2, int(n**0.5) + 1):\n",
        "   if n%i == 0:\n",
        "      return False\n",
        " return True\n",
        "for num in range(1, 201):\n",
        "  if prm(num):\n",
        "    print(f\"{num} is prime.\")\n",
        "  else:\n",
        "    print(f\"{num} is not prime.\")"
      ],
      "metadata": {
        "colab": {
          "base_uri": "https://localhost:8080/"
        },
        "id": "Bqd-57NpNKzq",
        "outputId": "10922c3c-6388-4502-dcf0-aea463a1e116"
      },
      "execution_count": null,
      "outputs": [
        {
          "output_type": "stream",
          "name": "stdout",
          "text": [
            "1 is not prime.\n",
            "2 is prime.\n",
            "3 is prime.\n",
            "4 is not prime.\n",
            "5 is prime.\n",
            "6 is not prime.\n",
            "7 is prime.\n",
            "8 is not prime.\n",
            "9 is not prime.\n",
            "10 is not prime.\n",
            "11 is prime.\n",
            "12 is not prime.\n",
            "13 is prime.\n",
            "14 is not prime.\n",
            "15 is not prime.\n",
            "16 is not prime.\n",
            "17 is prime.\n",
            "18 is not prime.\n",
            "19 is prime.\n",
            "20 is not prime.\n",
            "21 is not prime.\n",
            "22 is not prime.\n",
            "23 is prime.\n",
            "24 is not prime.\n",
            "25 is not prime.\n",
            "26 is not prime.\n",
            "27 is not prime.\n",
            "28 is not prime.\n",
            "29 is prime.\n",
            "30 is not prime.\n",
            "31 is prime.\n",
            "32 is not prime.\n",
            "33 is not prime.\n",
            "34 is not prime.\n",
            "35 is not prime.\n",
            "36 is not prime.\n",
            "37 is prime.\n",
            "38 is not prime.\n",
            "39 is not prime.\n",
            "40 is not prime.\n",
            "41 is prime.\n",
            "42 is not prime.\n",
            "43 is prime.\n",
            "44 is not prime.\n",
            "45 is not prime.\n",
            "46 is not prime.\n",
            "47 is prime.\n",
            "48 is not prime.\n",
            "49 is not prime.\n",
            "50 is not prime.\n",
            "51 is not prime.\n",
            "52 is not prime.\n",
            "53 is prime.\n",
            "54 is not prime.\n",
            "55 is not prime.\n",
            "56 is not prime.\n",
            "57 is not prime.\n",
            "58 is not prime.\n",
            "59 is prime.\n",
            "60 is not prime.\n",
            "61 is prime.\n",
            "62 is not prime.\n",
            "63 is not prime.\n",
            "64 is not prime.\n",
            "65 is not prime.\n",
            "66 is not prime.\n",
            "67 is prime.\n",
            "68 is not prime.\n",
            "69 is not prime.\n",
            "70 is not prime.\n",
            "71 is prime.\n",
            "72 is not prime.\n",
            "73 is prime.\n",
            "74 is not prime.\n",
            "75 is not prime.\n",
            "76 is not prime.\n",
            "77 is not prime.\n",
            "78 is not prime.\n",
            "79 is prime.\n",
            "80 is not prime.\n",
            "81 is not prime.\n",
            "82 is not prime.\n",
            "83 is prime.\n",
            "84 is not prime.\n",
            "85 is not prime.\n",
            "86 is not prime.\n",
            "87 is not prime.\n",
            "88 is not prime.\n",
            "89 is prime.\n",
            "90 is not prime.\n",
            "91 is not prime.\n",
            "92 is not prime.\n",
            "93 is not prime.\n",
            "94 is not prime.\n",
            "95 is not prime.\n",
            "96 is not prime.\n",
            "97 is prime.\n",
            "98 is not prime.\n",
            "99 is not prime.\n",
            "100 is not prime.\n",
            "101 is prime.\n",
            "102 is not prime.\n",
            "103 is prime.\n",
            "104 is not prime.\n",
            "105 is not prime.\n",
            "106 is not prime.\n",
            "107 is prime.\n",
            "108 is not prime.\n",
            "109 is prime.\n",
            "110 is not prime.\n",
            "111 is not prime.\n",
            "112 is not prime.\n",
            "113 is prime.\n",
            "114 is not prime.\n",
            "115 is not prime.\n",
            "116 is not prime.\n",
            "117 is not prime.\n",
            "118 is not prime.\n",
            "119 is not prime.\n",
            "120 is not prime.\n",
            "121 is not prime.\n",
            "122 is not prime.\n",
            "123 is not prime.\n",
            "124 is not prime.\n",
            "125 is not prime.\n",
            "126 is not prime.\n",
            "127 is prime.\n",
            "128 is not prime.\n",
            "129 is not prime.\n",
            "130 is not prime.\n",
            "131 is prime.\n",
            "132 is not prime.\n",
            "133 is not prime.\n",
            "134 is not prime.\n",
            "135 is not prime.\n",
            "136 is not prime.\n",
            "137 is prime.\n",
            "138 is not prime.\n",
            "139 is prime.\n",
            "140 is not prime.\n",
            "141 is not prime.\n",
            "142 is not prime.\n",
            "143 is not prime.\n",
            "144 is not prime.\n",
            "145 is not prime.\n",
            "146 is not prime.\n",
            "147 is not prime.\n",
            "148 is not prime.\n",
            "149 is prime.\n",
            "150 is not prime.\n",
            "151 is prime.\n",
            "152 is not prime.\n",
            "153 is not prime.\n",
            "154 is not prime.\n",
            "155 is not prime.\n",
            "156 is not prime.\n",
            "157 is prime.\n",
            "158 is not prime.\n",
            "159 is not prime.\n",
            "160 is not prime.\n",
            "161 is not prime.\n",
            "162 is not prime.\n",
            "163 is prime.\n",
            "164 is not prime.\n",
            "165 is not prime.\n",
            "166 is not prime.\n",
            "167 is prime.\n",
            "168 is not prime.\n",
            "169 is not prime.\n",
            "170 is not prime.\n",
            "171 is not prime.\n",
            "172 is not prime.\n",
            "173 is prime.\n",
            "174 is not prime.\n",
            "175 is not prime.\n",
            "176 is not prime.\n",
            "177 is not prime.\n",
            "178 is not prime.\n",
            "179 is prime.\n",
            "180 is not prime.\n",
            "181 is prime.\n",
            "182 is not prime.\n",
            "183 is not prime.\n",
            "184 is not prime.\n",
            "185 is not prime.\n",
            "186 is not prime.\n",
            "187 is not prime.\n",
            "188 is not prime.\n",
            "189 is not prime.\n",
            "190 is not prime.\n",
            "191 is prime.\n",
            "192 is not prime.\n",
            "193 is prime.\n",
            "194 is not prime.\n",
            "195 is not prime.\n",
            "196 is not prime.\n",
            "197 is prime.\n",
            "198 is not prime.\n",
            "199 is prime.\n",
            "200 is not prime.\n"
          ]
        }
      ]
    },
    {
      "cell_type": "code",
      "source": [
        "\"\"\" 5. Create an iterator class in Python that generates the Fibonacci sequence up to a specified number of terms.\"\"\"\n",
        "class fibonacci:\n",
        "    def __init__(self, num_terms):\n",
        "        self.num_terms = num_terms\n",
        "        self.count = 0\n",
        "        self.a = 0\n",
        "        self.b = 1\n",
        "\n",
        "    def __iter__(self):\n",
        "        return self\n",
        "\n",
        "    def __next__(self):\n",
        "        if self.count >= self.num_terms:\n",
        "            raise StopIteration\n",
        "        if self.count == 0:\n",
        "            self.count += 1\n",
        "            return self.a\n",
        "        elif self.count == 1:\n",
        "            self.count += 1\n",
        "            return self.b\n",
        "        else:\n",
        "            self.count += 1\n",
        "            self.a, self.b = self.b, self.a + self.b\n",
        "            return self.b\n",
        "\n",
        "fib = fibonacci(10)\n",
        "print(list(fib))"
      ],
      "metadata": {
        "colab": {
          "base_uri": "https://localhost:8080/"
        },
        "id": "iU6R4bqQkauj",
        "outputId": "ecfb0df2-9da5-4445-8280-18dc45cdc40a"
      },
      "execution_count": null,
      "outputs": [
        {
          "output_type": "stream",
          "name": "stdout",
          "text": [
            "[0, 1, 1, 2, 3, 5, 8, 13, 21, 34]\n"
          ]
        }
      ]
    },
    {
      "cell_type": "code",
      "source": [
        "\"\"\" 6. Write a generator function in Python that yields the powers of 2 up to a given exponent.\"\"\"\n",
        "def power(max_exponent):\n",
        "    for exp in range(max_exponent + 1):\n",
        "        yield 2 ** exp\n",
        "for p in power(4):\n",
        "   print(p)"
      ],
      "metadata": {
        "colab": {
          "base_uri": "https://localhost:8080/"
        },
        "id": "-WCWHvINj-IC",
        "outputId": "9d3c22e5-0c91-44f6-a92e-5ca3bd1e2d73"
      },
      "execution_count": null,
      "outputs": [
        {
          "output_type": "stream",
          "name": "stdout",
          "text": [
            "1\n",
            "2\n",
            "4\n",
            "8\n",
            "16\n"
          ]
        }
      ]
    },
    {
      "cell_type": "code",
      "source": [
        "\"\"\" 7. Implement a generator function that reads a file line by line and yields each line as a string.\"\"\"\n",
        "def read_file_lines(filename):\n",
        "    with open(filename, 'r') as file:\n",
        "        for line in file:\n",
        "            yield line.rstrip('\\n')\n",
        "for line in read_file_lines(abc.txt):\n",
        "  print(line)"
      ],
      "metadata": {
        "id": "BHHPemYMpK2O"
      },
      "execution_count": null,
      "outputs": []
    },
    {
      "cell_type": "code",
      "source": [
        "\n",
        "\"\"\" 8. Use a lambda function in Python to sort a list of tuples based on the second element of each tuple.\"\"\"\n",
        "t = [(1,2),(9,5),(6,7),(8,4)]\n",
        "sorted(t, key =  lambda x: x[1])"
      ],
      "metadata": {
        "id": "1SRZRMWIKnWN",
        "colab": {
          "base_uri": "https://localhost:8080/"
        },
        "outputId": "d48c8bd6-f973-4933-c7ee-4ac3e1bd5c8c"
      },
      "execution_count": 1,
      "outputs": [
        {
          "output_type": "execute_result",
          "data": {
            "text/plain": [
              "[(1, 2), (8, 4), (9, 5), (6, 7)]"
            ]
          },
          "metadata": {},
          "execution_count": 1
        }
      ]
    },
    {
      "cell_type": "code",
      "source": [
        "\"\"\" 9. Write a Python program that uses `map()` to convert a list of temperatures from Celsius to Fahrenheit.\"\"\"\n",
        "def c_to_f(c):\n",
        "   return (9/5)*c +32\n",
        "\n",
        "c = (20,30,40,50)\n",
        "f = list(map(c_to_f,c))\n",
        "print(\"celsius \",c)\n",
        "print(\"fahrenheit \",f)"
      ],
      "metadata": {
        "colab": {
          "base_uri": "https://localhost:8080/"
        },
        "id": "r5R4Eiypq1BB",
        "outputId": "aa508a1f-5208-4680-aabb-1d7b4459f755"
      },
      "execution_count": null,
      "outputs": [
        {
          "output_type": "stream",
          "name": "stdout",
          "text": [
            "celsius  (20, 30, 40, 50)\n",
            "fahrenheit  [68.0, 86.0, 104.0, 122.0]\n"
          ]
        }
      ]
    },
    {
      "cell_type": "code",
      "source": [
        "\"\"\" 10. Create a Python program that uses `filter()` to remove all the vowels from a given string.\"\"\"\n",
        "def vowels(input_str):\n",
        "    vowel = 'aeiouAEIOU'\n",
        "    return ''.join(filter(lambda ch: ch not in vowel, input_str))\n",
        "\n",
        "# Example usage\n",
        "text = \"Hello World\"\n",
        "result = vowels(text)\n",
        "print(\"Original:\", text)\n",
        "print(\"Without vowels:\", result)\n"
      ],
      "metadata": {
        "id": "LVma8F4T0Xb7",
        "colab": {
          "base_uri": "https://localhost:8080/"
        },
        "outputId": "65e6b545-ddaf-423a-b243-376a7fc4fdd3"
      },
      "execution_count": null,
      "outputs": [
        {
          "output_type": "stream",
          "name": "stdout",
          "text": [
            "Original: Hello World\n",
            "Without vowels: Hll Wrld\n"
          ]
        }
      ]
    },
    {
      "cell_type": "code",
      "source": [
        "\"\"\" 11) Imagine an accounting routine used in a book shop. It works on a list with sublists,\n",
        "which look like this:\n",
        " Write a Python program, which returns a list with 2-tuples. Each tuple consists of the order\n",
        " number and the product of the price per item and the quantity.\n",
        " The product should be increased by 10,- €\n",
        "if the value of the order is smaller than 100,00 €.\n",
        " Write a Python program using lambda and map.\"\"\"\n",
        "\n",
        "\n",
        "orders = [\n",
        "    [\"34587\", \"Learning Python, Mark Lutz\", 4, 40.95],\n",
        "    [\"98762\", \"Programming Python, Mark Lutz\", 5, 56.80],\n",
        "    [\"77226\", \"Head First Python, Paul Barry\", 3, 32.95],\n",
        "    [\"88112\", \"Einführung in Python3, Bernd Klein\", 3, 24.99]\n",
        "]\n",
        "\n",
        "result = list(map(\n",
        "    lambda order: (\n",
        "        order[0],\n",
        "        round(order[2] * order[3] + (10 if order[2] * order[3] < 100 else 0), 2)\n",
        "    ),\n",
        "    orders\n",
        "))\n",
        "\n",
        "# Print result\n",
        "print(result)"
      ],
      "metadata": {
        "id": "DokFeMmj2mte",
        "colab": {
          "base_uri": "https://localhost:8080/"
        },
        "outputId": "f9e1af7a-e702-4ad3-8b5f-ca6fc54d1010"
      },
      "execution_count": null,
      "outputs": [
        {
          "output_type": "stream",
          "name": "stdout",
          "text": [
            "[('34587', 163.8), ('98762', 284.0), ('77226', 108.85), ('88112', 84.97)]\n"
          ]
        }
      ]
    }
  ]
}