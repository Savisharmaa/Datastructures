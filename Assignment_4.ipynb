{
  "nbformat": 4,
  "nbformat_minor": 0,
  "metadata": {
    "colab": {
      "provenance": []
    },
    "kernelspec": {
      "name": "python3",
      "display_name": "Python 3"
    },
    "language_info": {
      "name": "python"
    }
  },
  "cells": [
    {
      "cell_type": "markdown",
      "source": [
        "**Ques. What is Object-Oriented Programming (OOP)?**\n",
        "\n",
        "**Ans.** OOP (Object-Oriented Programming) is a programming method based on the concept of \"objects\", which can contain data (attributes) and methods (functions) that operate on the data.\n",
        "\n",
        "**Ques. What is a class in OOP?**\n",
        "\n",
        "**Ans.** A class is like a template for creating objects. It defines:\n",
        "1. Attributes\n",
        "2. Methods\n",
        "\n",
        "**Ques. What is an object in OOP?**\n",
        "\n",
        "**Ans.** An object is an instance of a class. When you create an object, you’re making a specific example based on the class.\n",
        "\n",
        "**Ques. What is the difference between abstraction and encapsulation?**\n",
        "\n",
        "**Ans.**Abstraction hides complexity while encapsulation hides internal data.\n",
        "Abstraction interact by showing only necessary thing, while encapsulation protect data and only allow modification through methods.\n",
        "\n",
        "**Ques. What are dunder methods in Python?**\n",
        "\n",
        "**Ans.** Dunder methods are special methods in Python that have double underscores before and after their names, like __init__ or __str__.\n",
        "\n",
        "**Ques. Explain the concept of inheritance in OOP?**\n",
        "\n",
        "**Ans.** Inheritance allows a class (called a child class or subclass) to inherit attributes and methods from another class (called a parent class or superclass). We don’t have to rewrite code, the child class reuses code from the parent class.\n",
        "\n",
        "**Ques. What is polymorphism in OOP?**\n",
        "\n",
        " **Ans** Polymorphism allows the same method name or operator to behave differently depending on the object that is using it. It enables objects of different classes to be treated as if they are of the same base class.\n",
        "\n",
        "**Ques. How is encapsulation achieved in Python?**\n",
        "\n",
        "**Ans.** Encapsulation is achieved using classes and access modifiers.\n",
        "Getter and setters are used to control access the private data.\n",
        "\n",
        "Example:\n",
        "\n",
        "class Student:\n",
        "   \n",
        "    def __init__(self, name):\n",
        "   \n",
        "        self.__name = name\n",
        "        \n",
        "s = Student(\"ABC\")\n",
        "\n",
        "print(s._Student__name)  \n",
        "\n",
        "**Ques. What is a constructor in Python?**\n",
        "\n",
        "**Ans.** In Python, a constructor is a special method that is automatically called when an object is created from a class.\n",
        "\n",
        "**Ques What are class and static methods in Python?**\n",
        "\n",
        "**Ans.** Class works with the class itself, not the instance and static doesn't take self or cls as first parameter.Class can be used to access or modify data, static belongs to the class that doesnn't access instance.\n",
        "\n",
        "**Ques. What is method overloading in Python?**\n",
        "\n",
        "**Ans.** Method overloading means defining multiple methods with the same name but different parameters.\n",
        "\n",
        "**Ques. What is method overriding in OOP?**\n",
        "\n",
        "**Ans.** Method overriding happens when a child class defines a method with the same name as a method in its parent class, but with a different (or same) behavior.\n",
        "\n",
        "**Ques. What is a property decorator in Python?**\n",
        "\n",
        "**Ans.** The property decorator in Python allows us define a method that can be accessed like an attribute — without parentheses — while still allowing you to add logic (like validation or computation).\n",
        "\n",
        "Example:\n",
        "\n",
        "class Person:\n",
        "    \n",
        "    def __init__(self, name):\n",
        "        self._name = name  \n",
        "\n",
        "    @property\n",
        "    def name(self):\n",
        "        return self._name\n",
        "\n",
        "p = Person(\"ABC\")\n",
        "\n",
        "print(p.name)\n",
        "\n",
        "**Ques. Why is polymorphism important in OOP?**\n",
        "\n",
        "**Ans.** In polymorphism, one function can work with many types. we don't have to write code again.\n",
        "\n",
        "There is flexibility to add new classes without changing old.\n",
        "\n",
        "It helps to maintain large system.\n",
        "\n",
        "**Ques. What is an abstract class in Python?**\n",
        "\n",
        "**Ans.** An abstract class is a class that cannot be instantiated directly. It's meant to be inherited by other classes that implement its abstract methods.\n",
        "\n",
        "**Ques. What are the advantages of OOP?**\n",
        "\n",
        "**Ans.** It is easier to manage and debug.\n",
        "\n",
        "It protects data and writes code which works with multiple type.\n",
        "\n",
        "It hides complexity and easier to maintain.\n",
        "\n",
        "**Ques. What is multiple inheritance in Python?**\n",
        "\n",
        "**Ans.** Multiple inheritance is when a class inherits from two or more parent classes, combining their attributes and methods into a single child class.\n",
        "\n",
        "Syntax:\n",
        "\n",
        " class Parent1:\n",
        "\n",
        "   #methods\n",
        "\n",
        " class Parent2:\n",
        "\n",
        "   #methods\n",
        "\n",
        "  class child(Parent1,Parent2)\n",
        "\n",
        "**Ques. What is the difference between a class variable and an instance variable?**\n",
        "\n",
        "**Ans.** Class variable is shared by all instance of the class and instance variable is different for each instance. class variable is defined inside the class, outside the method and instance variable is defined inside __init__ method. class variable stores the common data and instance variable stores specific data\n",
        "\n",
        "**Ques. Explain the purpose of ‘’__str__’ and ‘__repr__’ ‘ methods in Python.**\n",
        "\n",
        "**Ans.** __str__ and __repr__ are dunder methods. __str__ is called by the built-in print() function and str(). __str__ is called by repr() or when you enter an object in the interpreter. __str__ returns a string that is easy to read and __repr__ returns a string that could be used to recreate the object.\n",
        "\n",
        "**Ques. What is the significance of the ‘super()’ function in Python?**\n",
        "\n",
        "**Ans.** The super() function is used to call methods from a parent (or superclass) from within a subclass.\n",
        "It allows us to reuse parent class methods without hardcoding the class name. It is more compatible with multiple inheritance.\n",
        "\n",
        "**Ques. What is the significance of the __del__ method in Python?**\n",
        "\n",
        "**Ans.** The __del__ method in Python is known as a destructor. It is a special method that is called when an object is about to be destroyed, typically when it is no longer in use and about to be garbage collected.\n",
        "\n",
        "** Ques. What is the difference between @staticmethod and @classmethod in Python?**\n",
        "\n",
        "**Ans.** Static method is used when the method does not need to know anything about the class or instance. It's just a function inside a class for organizational purposes.\n",
        "Class method is used when the method needs to know about the class itself — typically for factory methods or operations that affect the class as a whole.\n",
        "\n",
        "**Ques. How does polymorphism work in Python with inheritance?**\n",
        "\n",
        "**Ans.** In the context of inheritance, polymorphism allows subclasses to override methods of a parent class and still be used interchangeably with the parent.\n",
        "\n",
        "Step 1: Create a base (parent) class with a method\n",
        "\n",
        "Step 2: Subclasses override the method\n",
        "\n",
        "Step 3: Use base class references to call the overridden methods\n",
        "\n",
        "Example:\n",
        "\n",
        "class Animal:\n",
        "    def speak(self):\n",
        "        return \"Some sound\"\n",
        "\n",
        "class Dog(Animal):\n",
        "    def speak(self):\n",
        "        return \"Woof!\"\n",
        "\n",
        "class Cat(Animal):\n",
        "    def speak(self):\n",
        "        return \"Meow!\"\n",
        "\n",
        "animals = [Dog(), Cat(), Animal()]\n",
        "\n",
        "for animal in animals:\n",
        "    print(animal.speak())\n",
        "\n",
        "**Ques. What is method chaining in Python OOP?**\n",
        "\n",
        "**Ans.** Method chaining is a technique where multiple methods are called in a single line, one after the other, on the same object.\n",
        "\n",
        "Each method returns the object itself (self), allowing the next method to be called on it.\n",
        "\n",
        "Syntax:\n",
        "\n",
        "object.method1().method2().method3()\n",
        "\n",
        "\n",
        "**Ques. What is the purpose of the __call__ method in Python?**\n",
        "\n",
        "**Ans.** The __call__ method in Python is a dunder methods that allows objects to be called like functions. When you write object(), Python looks for the object's __call__() method.\n",
        "\n",
        "Example:\n",
        "class MyClass:\n",
        "   \n",
        "    def __call__(self, *args, **kwargs):\n",
        "   \n",
        "        print(\"Object was called like a function\")\n"
      ],
      "metadata": {
        "id": "qfclNhrxO27G"
      }
    },
    {
      "cell_type": "code",
      "execution_count": 25,
      "metadata": {
        "colab": {
          "base_uri": "https://localhost:8080/"
        },
        "id": "cmFP6A0SDn4o",
        "outputId": "d17d4096-3763-4e4a-fe15-47ee59538391"
      },
      "outputs": [
        {
          "output_type": "stream",
          "name": "stdout",
          "text": [
            "Animal Sound\n",
            "Bark\n"
          ]
        }
      ],
      "source": [
        "\"\"\" 1. Create a parent class Animal with a method speak() that prints a generic message. Create a child class Dog that overrides the speak() method to print \"Bark!\".\n",
        "\"\"\"\n",
        "class Animal:\n",
        "  def speak(self):\n",
        "    print(\"Animal Sound\")\n",
        "\n",
        "class Dog(Animal):\n",
        "  def speak(self):\n",
        "   print(\"Bark\")\n",
        "a = Animal()\n",
        "a.speak()\n",
        "d = Dog()\n",
        "d.speak()"
      ]
    },
    {
      "cell_type": "code",
      "source": [
        "\"\"\" 2. Write a program to create an abstract class Shape with a method area(). Derive classes Circle and Rectangle from it and implement the area() method in both.\"\"\"\n",
        "from abc import ABC, abstractmethod\n",
        "import math\n",
        "\n",
        "# Abstract class\n",
        "class Shape(ABC):\n",
        "\n",
        "    @abstractmethod\n",
        "    def area(self):\n",
        "        pass\n",
        "\n",
        "# Derived class Circle\n",
        "class Circle(Shape):\n",
        "    def __init__(self, radius):\n",
        "        self.radius = radius\n",
        "\n",
        "    def area(self):\n",
        "        return math.pi * self.radius ** 2\n",
        "\n",
        "class Rectangle(Shape):\n",
        "    def __init__(self, width, height):\n",
        "        self.width = width\n",
        "        self.height = height\n",
        "\n",
        "    def area(self):\n",
        "        return self.width * self.height\n",
        "\n",
        "circle = Circle(5)\n",
        "rectangle = Rectangle(4, 6)\n",
        "\n",
        "print(\"Circle Area:\", circle.area())\n",
        "print(\"Rectangle Area:\", rectangle.area())"
      ],
      "metadata": {
        "colab": {
          "base_uri": "https://localhost:8080/"
        },
        "id": "Uz1iOObGE2p1",
        "outputId": "3cf069eb-9431-42c2-fe29-75e10479b64d"
      },
      "execution_count": 1,
      "outputs": [
        {
          "output_type": "stream",
          "name": "stdout",
          "text": [
            "Circle Area: 78.53981633974483\n",
            "Rectangle Area: 24\n"
          ]
        }
      ]
    },
    {
      "cell_type": "code",
      "source": [
        "\"\"\" 3. Implement a multi-level inheritance scenario where a class Vehicle has an attribute type. Derive a class Car and further derive a class ElectricCar that adds a battery attribute.\"\"\"\n",
        "class Vehicle:\n",
        "    def __init__(self, type):\n",
        "        self.type = type\n",
        "\n",
        "class Car(Vehicle):\n",
        "    def __init__(self, type, brand):\n",
        "        super().__init__(type)\n",
        "        self.brand = brand\n",
        "\n",
        "class ElectricCar(Car):\n",
        "    def __init__(self, type, brand, battery):\n",
        "        super().__init__(type, brand)\n",
        "        self.battery = battery\n",
        "\n",
        "    def display_info(self):\n",
        "        print(f\"Type: {self.type}\")\n",
        "        print(f\"Brand: {self.brand}\")\n",
        "        print(f\"Battery: {self.battery} kWh\")\n",
        "\n",
        "ecar = ElectricCar(\"Four-wheeler\", \"Tesla\", 75)\n",
        "ecar.display_info()\n"
      ],
      "metadata": {
        "colab": {
          "base_uri": "https://localhost:8080/"
        },
        "id": "xltyQYGqFuob",
        "outputId": "b310c600-28e2-478b-f677-b66effdaf441"
      },
      "execution_count": 1,
      "outputs": [
        {
          "output_type": "stream",
          "name": "stdout",
          "text": [
            "Type: Four-wheeler\n",
            "Brand: Tesla\n",
            "Battery: 75 kWh\n"
          ]
        }
      ]
    },
    {
      "cell_type": "code",
      "source": [
        "\"\"\" 4. Demonstrate polymorphism by creating a base class Bird with a method fly(). Create two derived classes Sparrow and Penguin that override the fly() method.\n",
        "\"\"\"\n",
        "class Bird:\n",
        "    def fly(self):\n",
        "        print(\"Bird is flying\")\n",
        "\n",
        "class Sparrow(Bird):\n",
        "    def fly(self):\n",
        "        print(\"Sparrow can fly high!\")\n",
        "\n",
        "class Penguin(Bird):\n",
        "    def fly(self):\n",
        "        print(\"Penguins can't fly, they swim!\")\n",
        "\n",
        "def show_flight(bird):\n",
        "    bird.fly()\n",
        "\n",
        "# Example usage\n",
        "b1 = Sparrow()\n",
        "b2 = Penguin()\n",
        "\n",
        "show_flight(b1)\n",
        "show_flight(b2)"
      ],
      "metadata": {
        "colab": {
          "base_uri": "https://localhost:8080/"
        },
        "id": "wlyS2aiiOUVL",
        "outputId": "718e139d-c0a8-43a5-9d58-a35c7ba12477"
      },
      "execution_count": 2,
      "outputs": [
        {
          "output_type": "stream",
          "name": "stdout",
          "text": [
            "Sparrow can fly high!\n",
            "Penguins can't fly, they swim!\n"
          ]
        }
      ]
    },
    {
      "cell_type": "code",
      "source": [
        "\"\"\"5. Write a program to demonstrate encapsulation by creating a class BankAccount with private attributes balance and methods to deposit, withdraw, and check balance.\n",
        "\"\"\"\n",
        "class Bank():\n",
        "    def __init__(self, name, balance, pin):\n",
        "        self.__name = name\n",
        "        self.__balance = balance\n",
        "        self.__pin = pin\n",
        "    def get_balance(self, entered_pin):\n",
        "        if entered_pin == self.__pin:\n",
        "            return f\"{self.__name}, Your balance is Rs. {self.__balance}\"\n",
        "        else:\n",
        "            return \"Incorrect pin\"\n",
        "    def deposit(self, amount):\n",
        "        if amount > 0:\n",
        "            self.__balance += amount\n",
        "            print (f\"{amount} deposited successfully\")\n",
        "        else:\n",
        "            print(\"Invalid Amount\")\n",
        "    def withdraw(self,amount,entered_pin):\n",
        "        if entered_pin != self.__pin:\n",
        "            print(\"IncorRect Pin\")\n",
        "        elif amount > self.__balance:\n",
        "            print(\"Insufficient Balance\")\n",
        "        else:\n",
        "            self.__balance -= amount\n",
        "            print(f\"{amount} withdrawn successfully\")\n",
        "    def check_balance(self):\n",
        "       print(f\"Current balance: Rs.{self.__balance}\")\n",
        "\n",
        "account1 = Bank(\"ABC\", 5000,1234)\n",
        "print(account1.get_balance(1234))\n",
        "account1.deposit(1500)\n",
        "account1.withdraw(1500,1234)\n",
        "account1.check_balance()"
      ],
      "metadata": {
        "colab": {
          "base_uri": "https://localhost:8080/"
        },
        "id": "h2iwNyChOZxk",
        "outputId": "e3078adb-bc45-4795-c5db-62a9672cfd35"
      },
      "execution_count": 18,
      "outputs": [
        {
          "output_type": "stream",
          "name": "stdout",
          "text": [
            "ABC, Your balance is Rs. 5000\n",
            "1500 deposited successfully\n",
            "1500 withdrawn successfully\n",
            "Current balance: Rs.5000\n"
          ]
        }
      ]
    },
    {
      "cell_type": "code",
      "source": [
        "\"\"\" 6. Demonstrate runtime polymorphism using a method play() in a base class Instrument. Derive classes Guitar and Piano that implement their own version of play().\"\"\"\n",
        "class Instrument:\n",
        "  def play(self):\n",
        "    print(\"Playing an instrument\")\n",
        "class Guitar(Instrument):\n",
        "  def play(self):\n",
        "    print(\"Play the guitar\")\n",
        "class Piano:\n",
        "  def play(self):\n",
        "    print(\"play the piano\")\n",
        "def perform(Instrument):\n",
        "    instrument.play()\n",
        "\n",
        "g = Guitar()\n",
        "g.play()\n",
        "p = Piano()\n",
        "p.play()"
      ],
      "metadata": {
        "colab": {
          "base_uri": "https://localhost:8080/"
        },
        "id": "DFRRiqzPSMYx",
        "outputId": "ccc1cfb9-7191-46f7-8221-80a2cb3e66b4"
      },
      "execution_count": 14,
      "outputs": [
        {
          "output_type": "stream",
          "name": "stdout",
          "text": [
            "Play the guitar\n",
            "play the piano\n"
          ]
        }
      ]
    },
    {
      "cell_type": "code",
      "source": [
        "\"\"\" 7. Create a class MathOperations with a class method add_numbers() to add two numbers and a static method subtract_numbers() to subtract two numbers.\"\"\"\n",
        "class MathOperations:\n",
        "  @classmethod\n",
        "  def add_numbers(cls,a,b):\n",
        "    return a + b\n",
        "  @staticmethod\n",
        "  def subtract_numbers(a,b):\n",
        "    return a - b\n",
        "sum1 = MathOperations.add_numbers(10,20)\n",
        "difference = MathOperations.subtract_numbers(20,10)\n",
        "print(sum1)\n",
        "print(difference)"
      ],
      "metadata": {
        "colab": {
          "base_uri": "https://localhost:8080/"
        },
        "id": "MVPC8mmHS9l6",
        "outputId": "bfefafdf-fc73-4561-a3b0-32bf179fd4ff"
      },
      "execution_count": 24,
      "outputs": [
        {
          "output_type": "stream",
          "name": "stdout",
          "text": [
            "30\n",
            "10\n"
          ]
        }
      ]
    },
    {
      "cell_type": "code",
      "source": [
        "\"\"\" 8. Implement a class Person with a class method to count the total number of persons created.\"\"\"\n",
        "class Person:\n",
        "    count = 0\n",
        "\n",
        "    def __init__(self, name):\n",
        "        self.name = name\n",
        "        Person.count += 1\n",
        "    @classmethod\n",
        "    def total_persons(cls):\n",
        "        return cls.count\n",
        "\n",
        "p1 = Person(\"A\")\n",
        "p2 = Person(\"B\")\n",
        "p3 = Person(\"C\")\n",
        "\n",
        "print(\"Total persons created:\", Person.total_persons())"
      ],
      "metadata": {
        "colab": {
          "base_uri": "https://localhost:8080/"
        },
        "id": "3ESY8FN3Wegj",
        "outputId": "53dd757f-21ca-43e1-d9b3-85e2a2a3bdc9"
      },
      "execution_count": 2,
      "outputs": [
        {
          "output_type": "stream",
          "name": "stdout",
          "text": [
            "Total persons created: 3\n"
          ]
        }
      ]
    },
    {
      "cell_type": "code",
      "source": [
        "\"\"\" 9. Write a class Fraction with attributes numerator and denominator. Override the str method to display the fraction as \"numerator/denominator\".\"\"\"\n",
        "\n",
        "class Fraction:\n",
        "    def __init__(self, numerator, denominator):\n",
        "        self.numerator = numerator\n",
        "        if denominator == 0:\n",
        "            raise ValueError(\"Denominator cannot be zero.\")\n",
        "        self.denominator = denominator\n",
        "\n",
        "    def __str__(self):\n",
        "        return f\"{self.numerator}/{self.denominator}\"\n",
        "\n",
        "f1 = Fraction(3, 4)\n",
        "f2 = Fraction(7, 1)\n",
        "\n",
        "print(f1)\n",
        "print(f2)\n"
      ],
      "metadata": {
        "colab": {
          "base_uri": "https://localhost:8080/"
        },
        "id": "yWAaEiBPnxCG",
        "outputId": "8c6e7791-c60a-41c1-c0ab-1550ac1950c3"
      },
      "execution_count": 1,
      "outputs": [
        {
          "output_type": "stream",
          "name": "stdout",
          "text": [
            "3/4\n",
            "7/1\n"
          ]
        }
      ]
    },
    {
      "cell_type": "code",
      "source": [
        "\"\"\" 10. Demonstrate operator overloading by creating a class Vector and overriding the add method to add two vectors\"\"\"\n",
        "class Vector:\n",
        "    def __init__(self, x, y):\n",
        "        self.x = x\n",
        "        self.y = y\n",
        "\n",
        "    def __add__(self, other):\n",
        "        if isinstance(other, Vector):\n",
        "            return Vector(self.x + other.x, self.y + other.y)\n",
        "        return NotImplemented\n",
        "\n",
        "    def __str__(self):\n",
        "        return f\"Vector({self.x}, {self.y})\"\n",
        "\n",
        "v1 = Vector(2, 3)\n",
        "v2 = Vector(4, 5)\n",
        "\n",
        "v3 = v1 + v2\n",
        "\n",
        "print(\"v1:\", v1)\n",
        "print(\"v2:\", v2)\n",
        "print(\"v1 + v2 =\", v3)"
      ],
      "metadata": {
        "colab": {
          "base_uri": "https://localhost:8080/"
        },
        "id": "XVjmGrehp19c",
        "outputId": "d4c25928-7a48-4600-a28f-fef9dd38b33e"
      },
      "execution_count": 2,
      "outputs": [
        {
          "output_type": "stream",
          "name": "stdout",
          "text": [
            "v1: Vector(2, 3)\n",
            "v2: Vector(4, 5)\n",
            "v1 + v2 = Vector(6, 8)\n"
          ]
        }
      ]
    },
    {
      "cell_type": "code",
      "source": [
        "\"\"\" 11. Create a class Person with attributes name and age. Add a method greet() that prints \"Hello, my name is {name} and I am {age} years old.\"\n",
        "\"\"\"\n",
        "class Person:\n",
        "    def __init__(self, name, age):\n",
        "        self.name = name\n",
        "        self.age = age\n",
        "\n",
        "    def greet(self):\n",
        "        print(f\"Hello, my name is {self.name} and I am {self.age} years old.\")\n",
        "\n",
        "p1 = Person(\"ABC\", 25)\n",
        "p2 = Person(\"XYZ\", 30)\n",
        "\n",
        "p1.greet()\n",
        "p2.greet()"
      ],
      "metadata": {
        "colab": {
          "base_uri": "https://localhost:8080/"
        },
        "id": "dZ72xUd1rfFh",
        "outputId": "c1edf7ad-11c3-4412-f867-9a9d72bdfb9b"
      },
      "execution_count": 4,
      "outputs": [
        {
          "output_type": "stream",
          "name": "stdout",
          "text": [
            "Hello, my name is ABC and I am 25 years old.\n",
            "Hello, my name is XYZ and I am 30 years old.\n"
          ]
        }
      ]
    },
    {
      "cell_type": "code",
      "source": [
        "\"\"\" 12. Implement a class Student with attributes name and grades. Create a method average_grade() to compute the average of the grades.\"\"\"\n",
        "class Student:\n",
        "    def __init__(self, name, grades):\n",
        "        self.name = name\n",
        "        self.grades = grades  # Should be a list of numbers\n",
        "\n",
        "    def average_grade(self):\n",
        "        if not self.grades:\n",
        "            return 0\n",
        "        return sum(self.grades) / len(self.grades)\n",
        "\n",
        "student1 = Student(\"ABC\", [85, 90, 78, 92])\n",
        "print(f\"{student1.name}'s average grade is: {student1.average_grade():.2f}\")\n",
        "\n"
      ],
      "metadata": {
        "colab": {
          "base_uri": "https://localhost:8080/"
        },
        "id": "7Q7s1l5Mp4WD",
        "outputId": "91bed446-d481-4a20-a0c5-32d61b9ce697"
      },
      "execution_count": 9,
      "outputs": [
        {
          "output_type": "stream",
          "name": "stdout",
          "text": [
            "ABC's average grade is: 86.25\n"
          ]
        }
      ]
    },
    {
      "cell_type": "code",
      "source": [
        "\"\"\" 13. Create a class Rectangle with methods set_dimensions() to set the dimensions and area() to calculate the area.\"\"\"\n",
        "class Rectangle:\n",
        "  def set_dimensions(self):\n",
        "    self.length = 0\n",
        "    self.breadth = 0\n",
        "  def set_dimensions(self, length, width):\n",
        "        self.length = length\n",
        "        self.width = width\n",
        "  def area(self):\n",
        "        return self.length * self.width\n",
        "r = Rectangle()\n",
        "r.set_dimensions(5, 3)\n",
        "print(f\"Area of the rectangle is: {r.area()}\")\n"
      ],
      "metadata": {
        "colab": {
          "base_uri": "https://localhost:8080/"
        },
        "id": "ioMHGIorrWZX",
        "outputId": "194d1627-b4d9-42e5-ec75-f456e172669b"
      },
      "execution_count": 10,
      "outputs": [
        {
          "output_type": "stream",
          "name": "stdout",
          "text": [
            "Area of the rectangle is: 15\n"
          ]
        }
      ]
    },
    {
      "cell_type": "code",
      "source": [
        "\"\"\" 14. Create a class Employee with a method calculate_salary() that computes the salary based on hours worked and hourly rate. Create a derived class Manager that adds a bonus to the salary.\n",
        "\"\"\"\n",
        "class Employee:\n",
        "    def __init__(self, hours_worked, hourly_rate):\n",
        "        self.hours_worked = hours_worked\n",
        "        self.hourly_rate = hourly_rate\n",
        "\n",
        "    def calculate_salary(self):\n",
        "        return self.hours_worked * self.hourly_rate\n",
        "class Manager(Employee):\n",
        "    def __init__(self, hours_worked, hourly_rate, bonus):\n",
        "        super().__init__(hours_worked, hourly_rate)\n",
        "        self.bonus = bonus\n",
        "\n",
        "    def calculate_salary(self):\n",
        "        base_salary = super().calculate_salary()\n",
        "        return base_salary + self.bonus\n",
        "emp = Employee(40, 25)\n",
        "print(f\"Employee salary: Rs.{emp.calculate_salary()}\")\n",
        "\n",
        "mgr = Manager(40, 30, 500)\n",
        "print(f\"Manager salary: Rs.{mgr.calculate_salary()}\")\n"
      ],
      "metadata": {
        "colab": {
          "base_uri": "https://localhost:8080/"
        },
        "id": "R1zW1Mxdr3gF",
        "outputId": "60961edc-00fa-4a65-80b0-ca513498c7fb"
      },
      "execution_count": 19,
      "outputs": [
        {
          "output_type": "stream",
          "name": "stdout",
          "text": [
            "Employee salary: Rs.1000\n",
            "Manager salary: Rs.1700\n"
          ]
        }
      ]
    },
    {
      "cell_type": "code",
      "source": [
        "\"\"\"15. Create a class Product with attributes name, price, and quantity. Implement a method total_price() that calculates the total price of the product.\"\"\"\n",
        "class Product:\n",
        "    def __init__(self, name, price, quantity):\n",
        "        self.name = name\n",
        "        self.price = price\n",
        "        self.quantity = quantity\n",
        "\n",
        "    def total_price(self):\n",
        "        return self.price * self.quantity\n",
        "phone = Product(\"Phone\", 15000.00, 3)\n",
        "print(f\"Total price for {phone.name}s: Rs.{phone.total_price():.2f}\")\n"
      ],
      "metadata": {
        "colab": {
          "base_uri": "https://localhost:8080/"
        },
        "id": "uJUl9q5mshtA",
        "outputId": "4367ac8b-0071-4bcd-f716-d6fc0c7486aa"
      },
      "execution_count": 17,
      "outputs": [
        {
          "output_type": "stream",
          "name": "stdout",
          "text": [
            "Total price for Phones: Rs.45000.00\n"
          ]
        }
      ]
    },
    {
      "cell_type": "code",
      "source": [
        "\"\"\" 16. Create a class Animal with an abstract method sound(). Create two derived classes Cow and Sheep that implement the sound() method.\"\"\"\n",
        "from abc import ABC, abstractmethod\n",
        "\n",
        "class Animal(ABC):\n",
        "    @abstractmethod\n",
        "    def sound(self):\n",
        "        pass\n",
        "\n",
        "class Cow(Animal):\n",
        "    def sound(self):\n",
        "        return \"Moo\"\n",
        "\n",
        "class Sheep(Animal):\n",
        "    def sound(self):\n",
        "        return \"Baa\"\n",
        "cow = Cow()\n",
        "sheep = Sheep()\n",
        "\n",
        "print(f\"Cow says: {cow.sound()}\")\n",
        "print(f\"Sheep says: {sheep.sound()}\")"
      ],
      "metadata": {
        "colab": {
          "base_uri": "https://localhost:8080/"
        },
        "id": "7csARfdAvUQq",
        "outputId": "2f159c2d-dbf5-4d9c-9052-8d7e293fbd1e"
      },
      "execution_count": 32,
      "outputs": [
        {
          "output_type": "stream",
          "name": "stdout",
          "text": [
            "Cow says: Moo\n",
            "Sheep says: Baa\n"
          ]
        }
      ]
    },
    {
      "cell_type": "code",
      "source": [
        "\"\"\" 17. Create a class Book with attributes title, author, and year_published. Add a method get_book_info() that returns a formatted string with the book's details.\"\"\"\n",
        "class Book:\n",
        "    def __init__(self, title, author, year_published):\n",
        "        self.title = title\n",
        "        self.author = author\n",
        "        self.year_published = year_published\n",
        "\n",
        "    def get_book_info(self):\n",
        "        return f\"'{self.title}' by {self.author} (Published: {self.year_published})\"\n",
        "book1 = Book(\"Two States\", \"Chetan Bhagat\", 2009)\n",
        "print(book1.get_book_info())\n"
      ],
      "metadata": {
        "colab": {
          "base_uri": "https://localhost:8080/"
        },
        "id": "5aZO-5sMwTTs",
        "outputId": "1d98b1fe-cd73-4f57-b109-f1a5f3289dc4"
      },
      "execution_count": 34,
      "outputs": [
        {
          "output_type": "stream",
          "name": "stdout",
          "text": [
            "'Two States' by Chetan Bhagat (Published: 2009)\n"
          ]
        }
      ]
    },
    {
      "cell_type": "code",
      "source": [
        "\"\"\"  18. Create a class House with attributes address and price. Create a derived class Mansion that adds an attribute number_of_rooms.\"\"\"\n",
        "class House:\n",
        "    def __init__(self, address, price):\n",
        "        self.address = address\n",
        "        self.price = price\n",
        "\n",
        "class Mansion(House):\n",
        "    def __init__(self, address, price, number_of_rooms):\n",
        "        super().__init__(address, price)  # Call parent constructor\n",
        "        self.number_of_rooms = number_of_rooms\n",
        "mansion1 = Mansion(\"123, Greater Kailash\", 2500000, 12)\n",
        "print(f\"Address: {mansion1.address}\")\n",
        "print(f\"Price: Rs.{mansion1.price}\")\n",
        "print(f\"Number of Rooms: {mansion1.number_of_rooms}\")\n"
      ],
      "metadata": {
        "colab": {
          "base_uri": "https://localhost:8080/"
        },
        "id": "5efoPIk9wWPB",
        "outputId": "6be594fb-f9f7-4822-e53d-35f8558ccda5"
      },
      "execution_count": 35,
      "outputs": [
        {
          "output_type": "stream",
          "name": "stdout",
          "text": [
            "Address: 123, Greater Kailash\n",
            "Price: Rs.2500000\n",
            "Number of Rooms: 12\n"
          ]
        }
      ]
    }
  ]
}