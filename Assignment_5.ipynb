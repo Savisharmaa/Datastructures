{
  "nbformat": 4,
  "nbformat_minor": 0,
  "metadata": {
    "colab": {
      "provenance": []
    },
    "kernelspec": {
      "name": "python3",
      "display_name": "Python 3"
    },
    "language_info": {
      "name": "python"
    }
  },
  "cells": [
    {
      "cell_type": "markdown",
      "source": [
        "**Ques. What is the difference between interpreted and compiled languages?**\n",
        "\n",
        "**Ans.** In compiled language, Entire code is translated into machine code at once before execution.\tIn interpreted language, Code is translated and executed line by line.\n",
        "Compiled language is faster (after compilation) since it runs directly as machine code. Interpreted language is slower, because it translates code during execution.\n",
        "\n",
        "**Ques. What is exception handling in Python?**\n",
        "\n",
        "**Ans.** Exception Handling in Python is a way to catch and handle errors in your program.\n",
        "\n",
        "Example:\n",
        "\n",
        "try:\n",
        "  \n",
        "    number = int(input(\"Enter a number: \"))\n",
        "    result = 10 / number\n",
        "    print(\"Result is:\", result)\n",
        "\n",
        "except ZeroDivisionError:\n",
        "\n",
        "    print(\"You can't divide by zero!\")\n",
        "\n",
        "except ValueError:\n",
        "\n",
        "    print(\"Please enter a valid number (not text or symbols).\")\n",
        "\n",
        "finally:\n",
        "\n",
        "    print(\"Program complete.\")\n",
        "\n",
        "\n",
        "**Ques. What is the purpose of the finally block in exception handling?**\n",
        "\n",
        "**Ans.** The finally block is used to write code that must run no matter what happens — whether an error occurs or not.\n",
        "\n",
        "Example\n",
        "\n",
        " try:\n",
        "    num = int(input(\"Enter a number: \"))\n",
        "    result = 10 / num\n",
        "    print(\"Result is:\", result)\n",
        "\n",
        "except ZeroDivisionError:\n",
        "    print(\"You can't divide by zero!\")\n",
        "\n",
        "finally:\n",
        "    print(\"This will always run, error or not.\")\n",
        "\n",
        "**Ques. What is logging in Python?**\n",
        "\n",
        "**Ans.**Logging in Python refers to the process of recording messages that describe events or conditions that occur during the execution of a program. This is useful for Debugging, Monitoring, Troubleshooting.\n",
        "\n",
        "**Ques. What is the significance of the __del__ method in Python?**\n",
        "\n",
        "**Ans.** The __del__ method in Python is known as the destructor method. It's called automatically when an object is about to be destroyed, usually when there are no more references to it.\n",
        "\n",
        "\n",
        "**Ques. What is the difference between import and from ... import in Python?**\n",
        "\n",
        "**Ans.** import imports the entire module and from ... imports the specific name(function, class, method)\n",
        "\n",
        "Example:\n",
        "\n",
        "import math\n",
        "\n",
        "result = math.sqrt(16)\n",
        "\n",
        "from math import sqrt\n",
        "\n",
        "result = sqrt(16)\n",
        "\n",
        "**Ques. How can you handle multiple exceptions in Python?**\n",
        "\n",
        "**Ans.** We can handle multiple exception by using various techniques.\n",
        "\n",
        "1. Handle Multiple Exceptions in One except Block\n",
        "\n",
        "2. Use Multiple except Blocks\n",
        "\n",
        "3. Catch All Exceptions\n",
        "\n",
        "4. Combine All Techniques\n",
        "\n",
        "**Ques. What is the purpose of the with statement when handling files in Python?**\n",
        "\n",
        "**Ans.** The with statement in Python is used to simplify resource management, especially for handling files. Its main purpose is to automatically manage resources, such as closing files after they’re used, even if an error occurs.\n",
        "\n",
        "**Ques. What is the difference between multithreading and multiprocessing?**\n",
        "\n",
        "**Ans.** Multithreading runs multiple thread within same process. Threads share the same memory space. Better for I/O-bound tasks (e.g., reading files, network calls, waiting for user input)\n",
        "\n",
        "Multiprocessing runs multiple processes, each with its own Python interpreter and memory space. Better for CPU-bound tasks (e.g., number crunching, image processing).\n",
        "\n",
        "**Ques. What are the advantages of using logging in a program?**\n",
        "\n",
        "**Ans.** Using logging provides advantage over using print().\n",
        " 1. Better debugging and troubleshooting.\n",
        " 2. Logging can write to files, send logs to report servers, email logs to admin.\n",
        " 3. Consistent Formattigng\n",
        "\n",
        "**Ques. What is memory management in Python?**\n",
        "\n",
        "**Ans.**Memory management in Python refers to how Python handles the allocation, use, and release of memory during program execution.\n",
        "\n",
        "Key Components of Memory Management in Python\n",
        "\n",
        "1. Automatic Memory Allocation\n",
        "\n",
        "2. Reference Counting.\n",
        "\n",
        "3. Garbage Collection\n",
        "\n",
        "**Ques. What are the basic steps involved in exception handling in Python?**\n",
        "\n",
        "**Ans. Steps are as follows:\n",
        "\n",
        "1. Write the code that might raise an exception inside a try block\n",
        "\n",
        "2. Handle specific exceptions using one or more except blocks\n",
        "\n",
        "3. Use an else block for code that runs if no exceptions were raised\n",
        "\n",
        "4. Use a finally block to run cleanup code no matter what\n",
        "\n",
        "Example:\n",
        "\n",
        "try:\n",
        "   \n",
        "    result = 10 / 2\n",
        "except ZeroDivisionError:\n",
        "    \n",
        "    print(\"Cannot divide by zero!\")\n",
        "else:\n",
        "    \n",
        "    print(f\"Result is {result}\")\n",
        "finally:\n",
        "    \n",
        "    print(\"Cleanup code here\")\n",
        "\n",
        "**Ques. Why is memory management important in Python?**\n",
        "\n",
        "**Ans.** Memory management is important in Python because it ensures that your program uses system memory efficiently and safely.\n",
        "\n",
        "1. It prevents memory leaks.\n",
        "\n",
        "2. It optimize performance.\n",
        "\n",
        "3. Supports Automatic Resource Cleanup\n",
        "\n",
        "4. Improves Stability and Reliability\n",
        "\n",
        "**Ques. What is the role of try and except in exception handling?**\n",
        "\n",
        "**Ans. The try and except blocks are the fundamental building blocks of exception handling in Python.\n",
        "\n",
        "The try block contains the code that might raise an exception.\n",
        "If an exception happens inside the try block, Python immediately stops executing the rest of the try block and looks for a matching except block.\n",
        "\n",
        "The except block defines how to handle specific exceptions. It catches exceptions raised in the preceding try block and lets you respond gracefully instead of crashing the program.\n",
        "\n",
        "**Ques. How does Python's garbage collection system work?**\n",
        "\n",
        "**Ans.** Garbage Collecetion does Reference Counting, Garbage Collector for Cyclic References, Generational Garbage Collection.\n",
        "\n",
        "**Ques. What is the purpose of the else block in exception handling?**\n",
        "\n",
        "**Ans.** The else block in Python exception handling is an optional clause that runs only if the try block completes without raising any exceptions. It is used to separate the code that should run only when no exceptions occur in the try block.\n",
        "\n",
        "**Ques. What are the common logging levels in Python?**\n",
        "\n",
        "**Ans.**The common logging levels are as follows:\n",
        "\n",
        "1. DEBUG\n",
        "\n",
        "2. INFO\n",
        "\n",
        "3. WARNING\n",
        "\n",
        "4. ERROR\n",
        "\n",
        "**Ques. What is the difference between os.fork() and multiprocessing in Python?**\n",
        "\n",
        "**Ans.** os.fork() is a low-level system call that creates a new child process by duplicating the current process. The child process is an almost exact copy of the parent.\n",
        "\n",
        "The multiprocessing module is a high-level Python library to create and manage separate processes in a platform-independent way (works on Windows, Linux, macOS).\n",
        "\n",
        "**Ques. What is the importance of closing a file in Python?**\n",
        "\n",
        "**Ans.** Closing a file in Python is important for several reasons related to resource management, data integrity, and system stability. It avoid data corruption and inconsistent file states.\n",
        "\n",
        "\n",
        "**Ques. What is the difference between file.read() and file.readline() in Python?**\n",
        "\n",
        "**Ans.** file.read() reads the entire file and returns a string containing all the data read.\n",
        "\n",
        "file.readline() reads one line at a time and returns a string containing the line, including the newline character\n",
        "\n",
        "**Ques. What is the logging module in Python used for?**\n",
        "\n",
        "**Ans.** The logging module in Python is used for tracking events that happen when some software runs.It is used for debugging, monitoring, auditing, output destinations.\n",
        "\n",
        "**Ques. What is the os module in Python used for in file handling?**\n",
        "\n",
        "**Ans.**  The os module in Python is a standard library module that provides a way to interact with the operating system.\n",
        "\n",
        "1. It works with file path.\n",
        "\n",
        "2. It creates and remove directories.\n",
        "\n",
        "3. It rename and deletes files.\n",
        "\n",
        "4. It lists Directory Contents\n",
        "\n",
        "**Ques. What are the challenges associated with memory management in Python?**\n",
        "\n",
        "**Ans.** There are various challenges:\n",
        "\n",
        "1. Garbage Collection and Reference Counting\n",
        "\n",
        "2. Memory Leaks Due to Circular References\n",
        "\n",
        "3. Fragmentation and Inefficient Memory Usage\n",
        "\n",
        "4. Managing External Resources\n",
        "\n",
        "**Ques. How do you raise an exception manually in Python?**\n",
        "\n",
        "**Ans.** In Python, you can raise an exception manually using the raise statement. This is useful when you want to signal that an error or exceptional condition has occurred in your code.\n",
        "\n",
        " **Ques. Why is it important to use multithreading in certain applications?**\n",
        "\n",
        " **Ans.** Multithreading is important in certain applications because it allows for concurrent execution of tasks, which can significantly improve performance, responsiveness, and resource utilization."
      ],
      "metadata": {
        "id": "YM_mrILkxne5"
      }
    },
    {
      "cell_type": "code",
      "source": [
        " \"\"\"1. How can you open a file for writing in Python and write a string to it?\"\"\"\n",
        "file = open(\"example.txt\", \"w\")\n",
        "file.write(\"Hello, this is a test message.\")\n",
        "file.close()"
      ],
      "metadata": {
        "id": "YjWPehpdx13J"
      },
      "execution_count": null,
      "outputs": []
    },
    {
      "cell_type": "code",
      "source": [
        "\"\"\"2.  Write a Python program to read the contents of a file and print each line\"\"\"\n",
        "with open(\"example.txt\", \"r\") as file:\n",
        "      for line in file:\n",
        "         print(line.strip())"
      ],
      "metadata": {
        "colab": {
          "base_uri": "https://localhost:8080/"
        },
        "id": "jVBN64ua1dR6",
        "outputId": "9d8cd3e3-3c70-4a94-ce3c-cc0e51b07102"
      },
      "execution_count": null,
      "outputs": [
        {
          "output_type": "stream",
          "name": "stdout",
          "text": [
            "Hello, this is a test message.\n"
          ]
        }
      ]
    },
    {
      "cell_type": "code",
      "source": [
        "\"\"\"3. How would you handle a case where the file doesn't exist while trying to open it for reading\"\"\"\n",
        "\"To handle the case where a file doesn’t exist, you can use exception handling with a try-except block — specifically catching a FileNotFoundError.\"\n",
        "try:\n",
        "    with open(\"abc.txt\", \"r\") as file:\n",
        "        for line in file:\n",
        "            print(line.strip())\n",
        "\n",
        "except FileNotFoundError:\n",
        "    print(\"❌ Error: The file does not exist.\")\n"
      ],
      "metadata": {
        "colab": {
          "base_uri": "https://localhost:8080/"
        },
        "id": "eWU3Wjfl1dPC",
        "outputId": "df47dcc0-9459-4375-89e3-5e6c81e80130"
      },
      "execution_count": null,
      "outputs": [
        {
          "output_type": "stream",
          "name": "stdout",
          "text": [
            "❌ Error: The file does not exist.\n"
          ]
        }
      ]
    },
    {
      "cell_type": "code",
      "source": [
        "\"\"\"4.  Write a Python script that reads from one file and writes its content to another file.\"\"\"\n",
        "def copy_file(source_file, destination_file):\n",
        "    try:\n",
        "        with open(source_file, 'r') as src:\n",
        "            content = src.read()\n",
        "\n",
        "        with open(destination_file, 'w') as dest:\n",
        "            dest.write(content)\n",
        "\n",
        "        print(f\"Content successfully copied from '{source_file}' to '{destination_file}'.\")\n",
        "\n",
        "    except FileNotFoundError:\n",
        "        print(f\"Error: The file '{source_file}' does not exist.\")\n",
        "    except Exception as e:\n",
        "        print(f\"An error occurred: {e}\")\n",
        "\n",
        "source = 'abc.txt'\n",
        "destination = 'file.txt'\n",
        "copy_file(source, destination)"
      ],
      "metadata": {
        "id": "wCB7eg0p3vGi"
      },
      "execution_count": null,
      "outputs": []
    },
    {
      "cell_type": "code",
      "source": [
        "\"\"\"5.  How would you catch and handle division by zero error in Python?\"\"\"\n",
        "a = 10\n",
        "b = 0\n",
        "try:\n",
        "    result = a / b\n",
        "    print(f\"Result: {result}\")\n",
        "except ZeroDivisionError:\n",
        "    print(\"Error: Cannot divide by zero.\")\n",
        "except Exception as e:\n",
        "    print(f\"An unexpected error occurred: {e}\")"
      ],
      "metadata": {
        "colab": {
          "base_uri": "https://localhost:8080/"
        },
        "id": "jYf4WQe35zSa",
        "outputId": "48026fd8-a0a6-4de9-f3f2-6e7dba3d50bc"
      },
      "execution_count": null,
      "outputs": [
        {
          "output_type": "stream",
          "name": "stdout",
          "text": [
            "Error: Cannot divide by zero.\n"
          ]
        }
      ]
    },
    {
      "cell_type": "code",
      "source": [
        "\"\"\"6. Write a Python program that logs an error message to a log file when a division by zero exception occurs.\"\"\"\n",
        "import logging\n",
        "\n",
        "logging.basicConfig(\n",
        "    filename='error_log.txt',\n",
        "    level=logging.ERROR,\n",
        "    format='%(asctime)s - %(levelname)s - %(message)s'\n",
        ")\n",
        "\n",
        "a = 10\n",
        "b = 0\n",
        "\n",
        "try:\n",
        "    result = a / b\n",
        "    print(f\"Result: {result}\")\n",
        "except ZeroDivisionError as e:\n",
        "    print(\"Error: Cannot divide by zero.\")\n",
        "    logging.error(\"Division by zero attempted. a=%s, b=%s\", a, b)\n",
        "except Exception as e:\n",
        "    print(\"An unexpected error occurred.\")\n",
        "    logging.error(\"Unexpected error: %s\", str(e))\n"
      ],
      "metadata": {
        "colab": {
          "base_uri": "https://localhost:8080/"
        },
        "id": "jnVPcpYb6Lzm",
        "outputId": "31d0c0b8-da17-44e5-a8f7-24f664e20a54"
      },
      "execution_count": null,
      "outputs": [
        {
          "output_type": "stream",
          "name": "stderr",
          "text": [
            "ERROR:root:Division by zero attempted. a=10, b=0\n"
          ]
        },
        {
          "output_type": "stream",
          "name": "stdout",
          "text": [
            "Error: Cannot divide by zero.\n"
          ]
        }
      ]
    },
    {
      "cell_type": "code",
      "source": [
        "\"\"\"7. How do you log information at different levels (INFO, ERROR, WARNING) in Python using the logging module\"\"\"\n",
        "import logging\n",
        "\n",
        "logging.basicConfig(\n",
        "    filename='app.log',\n",
        "    level=logging.DEBUG,\n",
        "    format='%(asctime)s - %(levelname)s - %(message)s'\n",
        ")\n",
        "\n",
        "logging.debug(\"This is a DEBUG message.\")\n",
        "logging.info(\"This is an INFO message.\")\n",
        "logging.warning(\"This is a WARNING message.\")\n",
        "logging.error(\"This is an ERROR message.\")\n",
        "logging.critical(\"This is a CRITICAL message.\")\n"
      ],
      "metadata": {
        "colab": {
          "base_uri": "https://localhost:8080/"
        },
        "id": "53T2WIAl6e9U",
        "outputId": "c5464fd9-930a-4e40-ff3f-20bfb9bc1345"
      },
      "execution_count": null,
      "outputs": [
        {
          "output_type": "stream",
          "name": "stderr",
          "text": [
            "WARNING:root:This is a WARNING message.\n",
            "ERROR:root:This is an ERROR message.\n",
            "CRITICAL:root:This is a CRITICAL message.\n"
          ]
        }
      ]
    },
    {
      "cell_type": "code",
      "source": [
        "\"\"\"8. Write a program to handle a file opening error using exception handling.\"\"\"\n",
        "filename = 'nonexistent_file.txt'\n",
        "\n",
        "try:\n",
        "    with open(filename, 'r') as file:\n",
        "        content = file.read()\n",
        "        print(\"File content:\\n\", content)\n",
        "except FileNotFoundError:\n",
        "    print(f\"Error: The file '{filename}' was not found.\")\n",
        "except IOError as e:\n",
        "    print(f\"IO error occurred: {e}\")\n",
        "except Exception as e:\n",
        "    print(f\"An unexpected error occurred: {e}\")\n"
      ],
      "metadata": {
        "colab": {
          "base_uri": "https://localhost:8080/"
        },
        "id": "tyLL_ELR83X2",
        "outputId": "d65e3fe9-ee9b-4b82-ee19-115243d7c583"
      },
      "execution_count": null,
      "outputs": [
        {
          "output_type": "stream",
          "name": "stdout",
          "text": [
            "Error: The file 'nonexistent_file.txt' was not found.\n"
          ]
        }
      ]
    },
    {
      "cell_type": "code",
      "source": [
        "\"\"\"9. How can you read a file line by line and store its content in a list in Python?\"\"\"\n",
        "try:\n",
        "    with open(filename, 'r') as file:\n",
        "        for line in file:\n",
        "            lines.append(line.strip())\n",
        "    print(\"File content as list:\", lines)\n",
        "except FileNotFoundError:\n",
        "    print(f\"Error: The file '{filename}' was not found.\")\n"
      ],
      "metadata": {
        "colab": {
          "base_uri": "https://localhost:8080/"
        },
        "id": "HnHsBVqy9ZUx",
        "outputId": "18f40219-79c2-43fe-dbed-a55104571980"
      },
      "execution_count": null,
      "outputs": [
        {
          "output_type": "stream",
          "name": "stdout",
          "text": [
            "Error: The file 'nonexistent_file.txt' was not found.\n"
          ]
        }
      ]
    },
    {
      "cell_type": "code",
      "source": [
        "\"\"\"10. How can you append data to an existing file in Python?\"\"\"\n",
        "with open('example.txt', 'a') as file:\n",
        "    file.write('This is a new line of text.\\n')"
      ],
      "metadata": {
        "id": "OYhRkybEBDV0"
      },
      "execution_count": null,
      "outputs": []
    },
    {
      "cell_type": "code",
      "source": [
        "\"\"\"11. Write a Python program that uses a try-except block to handle an error when attempting to access a dictionary key that doesn't exist\"\"\"\n",
        "my_dict = {'name': 'ABC', 'age': 30}\n",
        "\n",
        "try:\n",
        "\n",
        "    value = my_dict['Course']\n",
        "    print(f\"Course: {value}\")\n",
        "except KeyError:\n",
        "    print(\"Error: The key 'address' does not exist in the dictionary.\")"
      ],
      "metadata": {
        "colab": {
          "base_uri": "https://localhost:8080/"
        },
        "id": "PhLdUaNyB15e",
        "outputId": "035f2061-8396-430d-c63f-3a5df692af7e"
      },
      "execution_count": null,
      "outputs": [
        {
          "output_type": "stream",
          "name": "stdout",
          "text": [
            "Error: The key 'address' does not exist in the dictionary.\n"
          ]
        }
      ]
    },
    {
      "cell_type": "code",
      "source": [
        "\"\"\"12. Write a program that demonstrates using multiple except blocks to handle different types of exceptions\"\"\"\n",
        "def divide_numbers(a, b):\n",
        "    try:\n",
        "        result = a / b\n",
        "        print(f\"Result: {result}\")\n",
        "    except ZeroDivisionError:\n",
        "        print(\"Error: Cannot divide by zero!\")\n",
        "    except TypeError:\n",
        "        print(\"Error: Please provide numbers (int or float) only.\")\n",
        "    except Exception as e:\n",
        "        print(f\"An unexpected error occurred: {e}\")\n",
        "divide_numbers(10, 2)\n",
        "divide_numbers(10, 0)\n",
        "divide_numbers(10, 'a')"
      ],
      "metadata": {
        "colab": {
          "base_uri": "https://localhost:8080/"
        },
        "id": "OQTQXuGCCuv7",
        "outputId": "7baa0474-bcf9-4c19-ffaf-18910d88ba23"
      },
      "execution_count": null,
      "outputs": [
        {
          "output_type": "stream",
          "name": "stdout",
          "text": [
            "Result: 5.0\n",
            "Error: Cannot divide by zero!\n",
            "Error: Please provide numbers (int or float) only.\n"
          ]
        }
      ]
    },
    {
      "cell_type": "code",
      "source": [
        "\"\"\"13. How would you check if a file exists before attempting to read it in Python?\"\"\"\n",
        "import os\n",
        "\n",
        "filename = 'example.txt'\n",
        "\n",
        "if os.path.exists(filename):\n",
        "    with open(filename, 'r') as file:\n",
        "          print('yes, it exists')\n",
        "          content = file.read()\n",
        "          print(content)\n",
        "\n",
        "else:\n",
        "    print(f\"The file '{filename}' does not exist.\")"
      ],
      "metadata": {
        "colab": {
          "base_uri": "https://localhost:8080/"
        },
        "id": "6hRewmjYDLzK",
        "outputId": "232746f2-11d7-4e3a-d1fb-afe29487c947"
      },
      "execution_count": null,
      "outputs": [
        {
          "output_type": "stream",
          "name": "stdout",
          "text": [
            "yes, it exists\n",
            "Hello, this is a test message.This is a new line of text.\n",
            "\n"
          ]
        }
      ]
    },
    {
      "cell_type": "code",
      "source": [
        "\"\"\"14. Write a program that uses the logging module to log both informational and error messages\"\"\"\n",
        "import logging\n",
        "\n",
        "logging.basicConfig(\n",
        "    level=logging.DEBUG,\n",
        "    format='%(asctime)s - %(levelname)s - %(message)s',\n",
        "    filename='app.log',\n",
        "    filemode='w'\n",
        ")\n",
        "\n",
        "def divide(a, b):\n",
        "    logging.info(f\"Attempting to divide {a} by {b}\")\n",
        "    try:\n",
        "        result = a / b\n",
        "        logging.info(f\"Division successful: {result}\")\n",
        "        return result\n",
        "    except ZeroDivisionError:\n",
        "        logging.error(\"Error: Division by zero attempted!\")\n",
        "        return None\n",
        "\n",
        "divide(10, 2)\n",
        "divide(5, 0)"
      ],
      "metadata": {
        "colab": {
          "base_uri": "https://localhost:8080/"
        },
        "id": "3t8VKa1mDdFd",
        "outputId": "4feee929-da13-40b4-ac93-960cc17d1e41"
      },
      "execution_count": null,
      "outputs": [
        {
          "output_type": "stream",
          "name": "stderr",
          "text": [
            "ERROR:root:Error: Division by zero attempted!\n"
          ]
        }
      ]
    },
    {
      "cell_type": "code",
      "source": [
        "\"\"\"15. Write a Python program that prints the content of a file and handles the case when the file is empty.\"\"\"\n",
        "filename = 'example.txt'\n",
        "\n",
        "try:\n",
        "    with open(filename, 'r') as file:\n",
        "        content = file.read()\n",
        "        if content:\n",
        "            print(\"File content:\")\n",
        "            print(content)\n",
        "        else:\n",
        "            print(\"The file is empty.\")\n",
        "except FileNotFoundError:\n",
        "    print(f\"Error: The file '{filename}' does not exist.\")\n",
        "except Exception as e:\n",
        "    print(f\"An unexpected error occurred: {e}\")\n"
      ],
      "metadata": {
        "colab": {
          "base_uri": "https://localhost:8080/"
        },
        "id": "vcOI4j6UEIw2",
        "outputId": "6492a56c-00a8-448b-cf16-8d07752170f3"
      },
      "execution_count": null,
      "outputs": [
        {
          "output_type": "stream",
          "name": "stdout",
          "text": [
            "File content:\n",
            "Hello, this is a test message.This is a new line of text.\n",
            "\n"
          ]
        }
      ]
    },
    {
      "cell_type": "code",
      "source": [
        "\"\"\"16. Demonstrate how to use memory profiling to check the memory usage of a small program.\"\"\"\n",
        "from memory_profiler import profile\n",
        "\n",
        "@profile\n",
        "def my_function():\n",
        "    a = [x * 2 for x in range(100000)]\n",
        "    b = [x ** 2 for x in range(100000)]\n",
        "    del a\n",
        "    return b\n",
        "\n",
        "if __name__ == \"__main__\":\n",
        "    my_function()"
      ],
      "metadata": {
        "id": "ilWhmeZeESw0"
      },
      "execution_count": null,
      "outputs": []
    },
    {
      "cell_type": "code",
      "source": [
        "\"\"\"17. Write a Python program to create and write a list of numbers to a file, one number per line\"\"\"\n",
        "numbers = [10, 20, 30, 40, 50]\n",
        "\n",
        "filename = 'numbers.txt'\n",
        "\n",
        "with open(filename, 'w') as file:\n",
        "    for number in numbers:\n",
        "        file.write(f\"{number}\\n\")\n",
        "\n",
        "print(f\"Numbers have been written to '{filename}' successfully.\")"
      ],
      "metadata": {
        "colab": {
          "base_uri": "https://localhost:8080/"
        },
        "id": "y-ZV_2coHBjR",
        "outputId": "94147f3d-9226-4ee6-b556-0bcef78c4517"
      },
      "execution_count": null,
      "outputs": [
        {
          "output_type": "stream",
          "name": "stdout",
          "text": [
            "Numbers have been written to 'numbers.txt' successfully.\n"
          ]
        }
      ]
    },
    {
      "cell_type": "code",
      "source": [
        "\"\"\"18. How would you implement a basic logging setup that logs to a file with rotation after 1MB\"\"\"\n",
        "import logging\n",
        "from logging.handlers import RotatingFileHandler\n",
        "\n",
        "logger = logging.getLogger('MyLogger')\n",
        "logger.setLevel(logging.DEBUG)\n",
        "handler = RotatingFileHandler(\n",
        "    'app.log',\n",
        "    maxBytes=1_000_000,\n",
        "    backupCount=5\n",
        ")\n",
        "\n",
        "formatter = logging.Formatter('%(asctime)s - %(levelname)s - %(message)s')\n",
        "handler.setFormatter(formatter)\n",
        "\n",
        "logger.addHandler(handler)\n",
        "\n",
        "for i in range(100):\n",
        "    logger.debug(f\"Logging message number {i}\")"
      ],
      "metadata": {
        "colab": {
          "base_uri": "https://localhost:8080/"
        },
        "id": "sQ8KiVyOHQJD",
        "outputId": "1fb34e21-1de6-487b-ef8e-95a2f9d09152"
      },
      "execution_count": null,
      "outputs": [
        {
          "output_type": "stream",
          "name": "stderr",
          "text": [
            "DEBUG:MyLogger:Logging message number 0\n",
            "DEBUG:MyLogger:Logging message number 1\n",
            "DEBUG:MyLogger:Logging message number 2\n",
            "DEBUG:MyLogger:Logging message number 3\n",
            "DEBUG:MyLogger:Logging message number 4\n",
            "DEBUG:MyLogger:Logging message number 5\n",
            "DEBUG:MyLogger:Logging message number 6\n",
            "DEBUG:MyLogger:Logging message number 7\n",
            "DEBUG:MyLogger:Logging message number 8\n",
            "DEBUG:MyLogger:Logging message number 9\n",
            "DEBUG:MyLogger:Logging message number 10\n",
            "DEBUG:MyLogger:Logging message number 11\n",
            "DEBUG:MyLogger:Logging message number 12\n",
            "DEBUG:MyLogger:Logging message number 13\n",
            "DEBUG:MyLogger:Logging message number 14\n",
            "DEBUG:MyLogger:Logging message number 15\n",
            "DEBUG:MyLogger:Logging message number 16\n",
            "DEBUG:MyLogger:Logging message number 17\n",
            "DEBUG:MyLogger:Logging message number 18\n",
            "DEBUG:MyLogger:Logging message number 19\n",
            "DEBUG:MyLogger:Logging message number 20\n",
            "DEBUG:MyLogger:Logging message number 21\n",
            "DEBUG:MyLogger:Logging message number 22\n",
            "DEBUG:MyLogger:Logging message number 23\n",
            "DEBUG:MyLogger:Logging message number 24\n",
            "DEBUG:MyLogger:Logging message number 25\n",
            "DEBUG:MyLogger:Logging message number 26\n",
            "DEBUG:MyLogger:Logging message number 27\n",
            "DEBUG:MyLogger:Logging message number 28\n",
            "DEBUG:MyLogger:Logging message number 29\n",
            "DEBUG:MyLogger:Logging message number 30\n",
            "DEBUG:MyLogger:Logging message number 31\n",
            "DEBUG:MyLogger:Logging message number 32\n",
            "DEBUG:MyLogger:Logging message number 33\n",
            "DEBUG:MyLogger:Logging message number 34\n",
            "DEBUG:MyLogger:Logging message number 35\n",
            "DEBUG:MyLogger:Logging message number 36\n",
            "DEBUG:MyLogger:Logging message number 37\n",
            "DEBUG:MyLogger:Logging message number 38\n",
            "DEBUG:MyLogger:Logging message number 39\n",
            "DEBUG:MyLogger:Logging message number 40\n",
            "DEBUG:MyLogger:Logging message number 41\n",
            "DEBUG:MyLogger:Logging message number 42\n",
            "DEBUG:MyLogger:Logging message number 43\n",
            "DEBUG:MyLogger:Logging message number 44\n",
            "DEBUG:MyLogger:Logging message number 45\n",
            "DEBUG:MyLogger:Logging message number 46\n",
            "DEBUG:MyLogger:Logging message number 47\n",
            "DEBUG:MyLogger:Logging message number 48\n",
            "DEBUG:MyLogger:Logging message number 49\n",
            "DEBUG:MyLogger:Logging message number 50\n",
            "DEBUG:MyLogger:Logging message number 51\n",
            "DEBUG:MyLogger:Logging message number 52\n",
            "DEBUG:MyLogger:Logging message number 53\n",
            "DEBUG:MyLogger:Logging message number 54\n",
            "DEBUG:MyLogger:Logging message number 55\n",
            "DEBUG:MyLogger:Logging message number 56\n",
            "DEBUG:MyLogger:Logging message number 57\n",
            "DEBUG:MyLogger:Logging message number 58\n",
            "DEBUG:MyLogger:Logging message number 59\n",
            "DEBUG:MyLogger:Logging message number 60\n",
            "DEBUG:MyLogger:Logging message number 61\n",
            "DEBUG:MyLogger:Logging message number 62\n",
            "DEBUG:MyLogger:Logging message number 63\n",
            "DEBUG:MyLogger:Logging message number 64\n",
            "DEBUG:MyLogger:Logging message number 65\n",
            "DEBUG:MyLogger:Logging message number 66\n",
            "DEBUG:MyLogger:Logging message number 67\n",
            "DEBUG:MyLogger:Logging message number 68\n",
            "DEBUG:MyLogger:Logging message number 69\n",
            "DEBUG:MyLogger:Logging message number 70\n",
            "DEBUG:MyLogger:Logging message number 71\n",
            "DEBUG:MyLogger:Logging message number 72\n",
            "DEBUG:MyLogger:Logging message number 73\n",
            "DEBUG:MyLogger:Logging message number 74\n",
            "DEBUG:MyLogger:Logging message number 75\n",
            "DEBUG:MyLogger:Logging message number 76\n",
            "DEBUG:MyLogger:Logging message number 77\n",
            "DEBUG:MyLogger:Logging message number 78\n",
            "DEBUG:MyLogger:Logging message number 79\n",
            "DEBUG:MyLogger:Logging message number 80\n",
            "DEBUG:MyLogger:Logging message number 81\n",
            "DEBUG:MyLogger:Logging message number 82\n",
            "DEBUG:MyLogger:Logging message number 83\n",
            "DEBUG:MyLogger:Logging message number 84\n",
            "DEBUG:MyLogger:Logging message number 85\n",
            "DEBUG:MyLogger:Logging message number 86\n",
            "DEBUG:MyLogger:Logging message number 87\n",
            "DEBUG:MyLogger:Logging message number 88\n",
            "DEBUG:MyLogger:Logging message number 89\n",
            "DEBUG:MyLogger:Logging message number 90\n",
            "DEBUG:MyLogger:Logging message number 91\n",
            "DEBUG:MyLogger:Logging message number 92\n",
            "DEBUG:MyLogger:Logging message number 93\n",
            "DEBUG:MyLogger:Logging message number 94\n",
            "DEBUG:MyLogger:Logging message number 95\n",
            "DEBUG:MyLogger:Logging message number 96\n",
            "DEBUG:MyLogger:Logging message number 97\n",
            "DEBUG:MyLogger:Logging message number 98\n",
            "DEBUG:MyLogger:Logging message number 99\n"
          ]
        }
      ]
    },
    {
      "cell_type": "code",
      "source": [
        "\"\"\"19. Write a program that handles both IndexError and KeyError using a try-except block\"\"\"\n",
        "def access_elements():\n",
        "    my_list = [1, 2, 3]\n",
        "    my_dict = {'a': 100, 'b': 200}\n",
        "\n",
        "    try:\n",
        "\n",
        "        print(\"Accessing list element at index 5:\")\n",
        "        print(my_list[5])\n",
        "\n",
        "        print(\"Accessing dictionary key 'z':\")\n",
        "        print(my_dict['z'])\n",
        "\n",
        "    except IndexError:\n",
        "        print(\"Error: List index out of range.\")\n",
        "    except KeyError:\n",
        "        print(\"Error: Key not found in the dictionary.\")\n",
        "\n",
        "access_elements()"
      ],
      "metadata": {
        "colab": {
          "base_uri": "https://localhost:8080/"
        },
        "id": "Cxvp-sGoIAT0",
        "outputId": "3786d70a-a98b-4fa2-ad4d-4291841a1377"
      },
      "execution_count": null,
      "outputs": [
        {
          "output_type": "stream",
          "name": "stdout",
          "text": [
            "Accessing list element at index 5:\n",
            "Error: List index out of range.\n"
          ]
        }
      ]
    },
    {
      "cell_type": "code",
      "source": [
        "\"\"\"20. How would you open a file and read its contents using a context manager in Python\"\"\"\n",
        "filename = 'example.txt'\n",
        "\n",
        "with open(filename, 'r') as file:\n",
        "    content = file.read()\n",
        "    print(content)"
      ],
      "metadata": {
        "colab": {
          "base_uri": "https://localhost:8080/"
        },
        "id": "z_gWm20nKBiT",
        "outputId": "72966518-ae0a-4587-bce9-54a2289413a7"
      },
      "execution_count": null,
      "outputs": [
        {
          "output_type": "stream",
          "name": "stdout",
          "text": [
            "Hello, this is a test message.This is a new line of text.\n",
            "\n"
          ]
        }
      ]
    },
    {
      "cell_type": "code",
      "source": [
        "\"\"\"21. Write a Python program that reads a file and prints the number of occurrences of a specific word\"\"\"\n",
        "def word_occurrences(filename, target_word):\n",
        "    try:\n",
        "        with open(filename, 'r') as file:\n",
        "            content = file.read().lower()\n",
        "            word_count = content.split().count(target_word.lower())\n",
        "            print(f\"The word '{target_word}' occurs {word_count} time(s) in '{filename}'.\")\n",
        "    except FileNotFoundError:\n",
        "        print(f\"Error: The file '{filename}' does not exist.\")\n",
        "    except Exception as e:\n",
        "        print(f\"An unexpected error occurred: {e}\")\n",
        "\n",
        "word_occurrences('example.txt', 'Python')\n"
      ],
      "metadata": {
        "colab": {
          "base_uri": "https://localhost:8080/"
        },
        "id": "9yVjVyMUKQnB",
        "outputId": "2a26f1d4-9f30-461c-ec60-244d4061d9d8"
      },
      "execution_count": null,
      "outputs": [
        {
          "output_type": "stream",
          "name": "stdout",
          "text": [
            "The word 'Python' occurs 0 time(s) in 'example.txt'.\n"
          ]
        }
      ]
    },
    {
      "cell_type": "code",
      "source": [
        "\"\"\" 22.How can you check if a file is empty before attempting to read its contents?\"\"\"\n",
        "import os\n",
        "\n",
        "filename = 'example.txt'\n",
        "\n",
        "if os.path.exists(filename) and os.path.getsize(filename) > 0:\n",
        "    with open(filename, 'r') as file:\n",
        "        content = file.read()\n",
        "        print(\"File content:\")\n",
        "        print(content)\n",
        "else:\n",
        "    print(\"The file is either empty or does not exist.\")"
      ],
      "metadata": {
        "colab": {
          "base_uri": "https://localhost:8080/"
        },
        "id": "6E9FngrsKmpS",
        "outputId": "c0df9b8b-9396-4352-9721-4e0c72d3b9f5"
      },
      "execution_count": null,
      "outputs": [
        {
          "output_type": "stream",
          "name": "stdout",
          "text": [
            "File content:\n",
            "Hello, this is a test message.This is a new line of text.\n",
            "\n"
          ]
        }
      ]
    },
    {
      "cell_type": "code",
      "source": [
        "\"\"\"23. Write a Python program that writes to a log file when an error occurs during file handling.\"\"\"\n",
        "import logging\n",
        "\n",
        "logging.basicConfig(\n",
        "    filename='file_errors.log',\n",
        "    level=logging.ERROR,\n",
        "    format='%(asctime)s - %(levelname)s - %(message)s'\n",
        ")\n",
        "\n",
        "def read_file(filename):\n",
        "    try:\n",
        "        with open(filename, 'r') as file:\n",
        "            content = file.read()\n",
        "            print(\"File content:\")\n",
        "            print(content)\n",
        "    except Exception as e:\n",
        "        logging.error(f\"Failed to read file '{filename}': {e}\")\n",
        "        print(\"An error occurred. Check the log file for details.\")\n",
        "\n",
        "read_file('nonexistent_file.txt')\n"
      ],
      "metadata": {
        "id": "toLgX4N-K0HI"
      },
      "execution_count": null,
      "outputs": []
    }
  ]
}