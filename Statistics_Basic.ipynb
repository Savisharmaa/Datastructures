{
  "nbformat": 4,
  "nbformat_minor": 0,
  "metadata": {
    "colab": {
      "provenance": []
    },
    "kernelspec": {
      "name": "python3",
      "display_name": "Python 3"
    },
    "language_info": {
      "name": "python"
    }
  },
  "cells": [
    {
      "cell_type": "markdown",
      "source": [
        " **Ques. What is statistics, and why is it important?**\n",
        "\n",
        " **Ans.** Statistics is the branch of mathematics that deals with collecting, analyzing, interpreting, presenting, and organizing data.\n",
        " It is important because it helps identify patterns in large datasets—such as consumer behavior, climate change, or disease outbreaks.\n",
        "\n",
        " **Ques. What are the two main types of statistics?**\n",
        "\n",
        " **Ans.** The two main types of statistics are:\n",
        "  1. Descriptive Statistics\n",
        "     * It summarizes and organizes data using measures like mean,median, mode.\n",
        "  2. Inferential Statistics\n",
        "\n",
        "    * It makes predictions or generalizations about a population based  on a sample using Hypothesis testing\n",
        "\n",
        "**Ques. What are descriptive statistics?**\n",
        "\n",
        "**Ans.** Descriptive statistics are methods for summarizing and organizing data so it can be easily understood. They describe the main features of a dataset, giving a clear picture of what the data looks like without making predictions or inferences.\n",
        "\n",
        "**Ques. What is inferential statistics?**\n",
        "\n",
        "**Ans.** Inferential statistics is the branch of statistics that allows you to draw conclusions or make predictions about a population based on data collected from a sample of that population.\n",
        "\n",
        "**Ques. What is sampling in statistics?**\n",
        "\n",
        "**Ans.**Sampling in statistics is the process of selecting a subset from a larger group to study and make inferences about the whole population. Here, subset means sample or smaller group selected, larger group stands for population or entire group.\n",
        "\n",
        "**Ques. What are the different types of sampling methods?**\n",
        "\n",
        "**Ans.** Types of sampling methods are:\n",
        "1. Simple Random Sampling: Every member has an equal chance.\n",
        "\n",
        "2. Systematic Sampling: Select every k-th individual from a list.\n",
        "\n",
        "3. Stratified Sampling: Divide population into subgroups (strata) and randomly sample from each.\n",
        "\n",
        "4. Cluster Sampling: Divide population into clusters, randomly select clusters, then sample all or some individuals within them.\n",
        "\n",
        "**Ques. What is the difference between random and non-random sampling.**\n",
        "\n",
        "**Ans.** In random sampling, every member of the population has a known, non-zero chance of being selected.\n",
        "\n",
        "In non random sampling, not all members of the population have a chance of being selected. Selection is based on convenience, judgment, or other non-random criteria.\n",
        "\n",
        "**Ques. Define and give examples of qualitative and quantitative data.**\n",
        "\n",
        "**Ans.** Qualitative data describes qualities, characteristics, or categories that cannot be measured numerically but can be grouped or labeled.\n",
        "\n",
        "Types of Qualitative Data are:\n",
        "\n",
        "1. Nominal: Gender\n",
        "2. Ordinal: Rating\n",
        "\n",
        "Quantitative data represents numerical values that can be counted or measured. This data can be used in mathematical operations.\n",
        "\n",
        "Types of Quantitative data are:\n",
        "\n",
        "1. Discrete: Number of students in class\n",
        "2. Continuous: Height of a person.\n",
        "\n",
        "**Ques.What are the different types of data in statistics?**\n",
        "\n",
        "**Ans.** The different types of data are:\n",
        "1. Qualitative (Categorical) Data\n",
        "\n",
        "Describes qualities or categories that can’t be measured numerically.\n",
        "\n",
        "Examples:\n",
        "\n",
        "*   Gender: Male, Female, Other\n",
        "*   Eye color: Blue, Brown, Green\n",
        "\n",
        "2. Ordinal Data (Ordered categories)\n",
        "\n",
        "Categories have a logical order, but differences between values aren’t meaningful\n",
        "\n",
        "Examples:\n",
        "1. Education level: High School, Bachelor’s, Master’s, PhD\n",
        "2. Customer satisfaction: Poor, Fair, Good, Excellent\n",
        "**Ques. Explain nominal, ordinal, interval, and ratio levels of measurement.**\n",
        "\n",
        "**Ans.**\n",
        "Nominal: Nominal data consists of categories that have no natural order or ranking. They’re just labels or names used to identify items.\n",
        "\n",
        "Examples:\n",
        "*   Gender: Male, Female, Other\n",
        "*   Hair color: Black, Brown, Blonde\n",
        "\n",
        "Ordinal: Ordinal data also uses categories, but with a meaningful order or ranking. However, the differences between ranks are not measurable or consistent.\n",
        "\n",
        "Interval: Interval data is numerical, has an order, and the differences between values are meaningful and equal. However, there is no true zero—zero is arbitrary.\n",
        "\n",
        "Example:\n",
        "Temperature, Dates\n",
        "\n",
        "Ratio: Ratio data has all the properties of interval data, plus a meaningful zero point, which means you can make meaningful ratios ( \"twice as much\").\n",
        "\n",
        " **Ques. What is the measure of central tendency?**\n",
        "\n",
        " **Ans.**A measure of central tendency is a single value that summarizes a set of data by identifying the center or typical value. It tells us where most of the data points tend to cluster.\n",
        "\n",
        "**Ques. Define mean, median, and mode.**\n",
        "\n",
        "**Ans.**Mean: The mean is the sum of all values in a dataset divided by the number of values.\n",
        "\n",
        "Median: The median is the middle value of an ordered dataset. If the number of items is odd, it's the middle value. If even, it's the average of the two middle values.\n",
        "\n",
        "Mode: The mode is the value that occurs most frequently in a dataset.\n",
        "\n",
        "A dataset can have no mode, one mode, or multiple modes.\n",
        "\n",
        "**Ques. What is the significance of the measure of central tendency?**\n",
        "\n",
        "**Ans.**The measure of central tendency is significant because it gives us a single representative value that summarizes or describes an entire dataset. This helps us understand the general trend, pattern, or \"center\" of the data.\n",
        "\n",
        " **Ques. What is variance, and how is it calculated.**\n",
        "\n",
        " **Ans.** Variance measures the spread or dispersion of a set of data points around the mean. It tells you how much the values in a dataset differ from the average value.\n",
        "\n",
        " For population, it is calculated as:\n",
        "\n",
        "   σ² = Σ (Xi - μ)² / N\n",
        "\n",
        "   For sample, it is calculated as:\n",
        "\n",
        "   s² = Σ (xi - x̄)² / (n - 1)\n",
        "\n",
        "**Ques. What is skewness in a dataset?**\n",
        "\n",
        "**Ans.** Skewness is a statistical measure that describes the asymmetry of a distribution around its mean. It tells you whether the data is symmetrically distributed or leans to one side (has a longer tail on one side).\n",
        "\n",
        "Types of skewness:\n",
        "\n",
        "1. Zero Skewness: Data is symmetrical (normal distribution)\n",
        "2. Positive Skew: Tail is longer on the right (mean > median)\n",
        "3. Negative Skew: Tail is longer on the left (mean < median)\n",
        "**Ques. What is standard deviation, and why is it important?**\n",
        "\n",
        "**Ans.** Standard deviation is a measure of how spread out the values in a dataset are around the mean (average). It shows the average distance of each data point from the mean.\n",
        "\n",
        "It is important because it shows how much individual data points deviate from the average, it helps determine if data is consistent or widely varied, standard deviation allows comparison of spread between different datasets or groups, even if their means differ.\n",
        "\n",
        "**Ques. Define and explain the term range in statistics.**\n",
        "\n",
        "**Ans.**The range is the difference between the maximum and minimum values in a dataset.\n",
        "\n",
        "Range = Maximum value - Minimum value\n",
        "\n",
        "Example:\n",
        "\n",
        "data = [3,7,10,15,21]\n",
        "\n",
        "max =21\n",
        "\n",
        "min = 3\n",
        "\n",
        "Range = 21 - 3\n",
        "\n",
        " 18\n",
        "\n",
        " **Ques. What is the difference between variance and standard deviation**\n",
        "\n",
        " **Ans.** Variance measures the average of the squared differences from the mean.\n",
        " Formula:\n",
        " σ² = Σ (Xi - μ)² / N\n",
        "Standard deviation is the square root of variance.\n",
        "\n",
        "σ² = Σ √(Xi - μ)² / N\n",
        "\n",
        " **Ques.What does it mean if a dataset is positively or negatively skewed**\n",
        "\n",
        "**Ans.**Skewness measures how symmetrical or asymmetrical a distribution is around its mean.\n",
        "\n",
        "Positively Skewed (Right-Skewed): Tail is longer on the right side\n",
        "\n",
        "Mean > Median > Mode\n",
        "\n",
        "Negatively Skewed (Left-Skewed)\n",
        "\n",
        "Tail is longer on the left side\n",
        "\n",
        "Mean < Median < Mode\n",
        "\n",
        "**Ques. Define and explain kurtosis.**\n",
        "\n",
        "**Ans.**Kurtosis is a statistical measure that describes the shape of a distribution’s tails in relation to its overall shape—specifically, it measures how heavy or light the tails are compared to a normal distribution.\n",
        "\n",
        "Types of kurtosis:\n",
        "1. Mesokurtic: kurtosis = 3\n",
        "2. Leptokurtic: kurtosis >3\n",
        "3. Platykurtic: kurtosis < 3\n",
        "\n",
        "**Ques. What is the purpose of covariance?**\n",
        "\n",
        "**Ans.** The purpose of covariance in statistics is to measure how two variables change together—specifically, to determine the direction of their relationship.\n",
        "\n",
        "If two variables tend to increase or decrease together, it is positive covariance\n",
        "\n",
        "If one increases while the other decreasesi, it is negative covariance\n",
        "\n",
        "If there's no consistent pattern, it is covariance near zero\n",
        "\n",
        "**Ques. What does correlation measure in statistics.**\n",
        "\n",
        "**Ans.**In statistics, correlation measures the strength and direction of a linear relationship between two variables.\n",
        "\n",
        "1. Direction of the relationship: Positive, negative and zero correlatin.\n",
        "2. Strength of the relationship: Strong correlation, eak correlation.\n",
        "\n",
        "**Ques.What is the difference between covariance and correlation?**\n",
        "\n",
        "**Ans.** Covariance measures the direction of the relationship between two variables (i.e., whether they increase or decrease together).\n",
        "Range can be real number.\n",
        "\n",
        "Corelation measures both the strength and direction of a linear relationship between two variables, and is standardized. Range should be between -1 and 1.\n",
        "\n",
        "**Ques. What are some real-world applications of statistics?**\n",
        "\n",
        "**Ans.**Statistics plays a vital role in almost every field where data is collected and decisions need to be made.\n",
        "\n",
        "Examples:\n",
        "\n",
        "Market research: Analyzing consumer preferences, buying habits, or satisfaction surveys.\n",
        "\n",
        "Stock market analysis: Studying trends, volatility, and risks using time series models.\n",
        "\n",
        "Team strategy: Using stats for game planning and scouting opponents.\n",
        "\n",
        "Machine learning: Building models that learn from data—heavily based on statistical principles."
      ],
      "metadata": {
        "id": "sI-JNOOgpNm3"
      }
    },
    {
      "cell_type": "code",
      "source": [
        "\"\"\"1. How do you calculate the mean, median, and mode of a dataset?\"\"\"\n",
        "\n",
        "import numpy as np\n",
        "from scipy import stats\n",
        "\n",
        "data = [10,20,20,45,35]\n",
        "mean = np.mean(data)\n",
        "median = np.median(data)\n",
        "mode = stats.mode(data)\n",
        "print(mean)\n",
        "print(median)\n",
        "print(mode.mode)"
      ],
      "metadata": {
        "colab": {
          "base_uri": "https://localhost:8080/"
        },
        "id": "BE2fJQmBxE_1",
        "outputId": "053ae6ea-a9a5-4e32-f66c-70aca062e673"
      },
      "execution_count": 5,
      "outputs": [
        {
          "output_type": "stream",
          "name": "stdout",
          "text": [
            "26.0\n",
            "20.0\n",
            "20\n"
          ]
        }
      ]
    },
    {
      "cell_type": "code",
      "source": [
        "\"\"\"2.  Write a Python program to compute the variance and standard deviation of a dataset.\"\"\"\n",
        "data = [10,20,20,45,35]\n",
        "variance = np.var(data)\n",
        "std_variance = np.std(data)\n",
        "variance, std_variance"
      ],
      "metadata": {
        "colab": {
          "base_uri": "https://localhost:8080/"
        },
        "id": "EHXTPz2cx3nn",
        "outputId": "1733f209-12c4-4951-929e-2f09885c3efa"
      },
      "execution_count": 6,
      "outputs": [
        {
          "output_type": "execute_result",
          "data": {
            "text/plain": [
              "(np.float64(154.0), np.float64(12.409673645990857))"
            ]
          },
          "metadata": {},
          "execution_count": 6
        }
      ]
    },
    {
      "cell_type": "code",
      "source": [
        "\"\"\"3.  Create a dataset and classify it into nominal, ordinal, interval, and ratio types.\"\"\"\n",
        "dataset = {\"Nominal\": [\"Red\",\"Blue\", \"Green\"],\n",
        "           \"Ordinal\": [\"Small\",\"Medium\",\"Large\"],\n",
        "           \"Interval\": [-10,0,10],\n",
        "           \"Ratio\":[5,10,15]\n",
        "          }\n",
        "dataset"
      ],
      "metadata": {
        "colab": {
          "base_uri": "https://localhost:8080/"
        },
        "id": "b6N6cU3dy5ek",
        "outputId": "5f807eaa-37b8-4655-d22d-9471bcf3efc1"
      },
      "execution_count": 7,
      "outputs": [
        {
          "output_type": "execute_result",
          "data": {
            "text/plain": [
              "{'Nominal': ['Red', 'Blue', 'Green'],\n",
              " 'Ordinal': ['Small', 'Medium', 'Large'],\n",
              " 'Interval': [-10, 0, 10],\n",
              " 'Ratio': [5, 10, 15]}"
            ]
          },
          "metadata": {},
          "execution_count": 7
        }
      ]
    },
    {
      "cell_type": "code",
      "source": [
        "\"\"\"4. Implement sampling techniques like random sampling and stratified sampling.\"\"\"\n",
        "from sklearn.model_selection import train_test_split\n",
        "\n",
        "data = range(1,101)\n",
        "random_sample = np.random.choice(data,10,replace=False)\n",
        "labels = ['A','B']\n",
        "stratified_sample, _ = train_test_split(data, test_size=0.9, stratify=[labels[i%2] for i in data])\n",
        "random_sample, stratified_sample"
      ],
      "metadata": {
        "colab": {
          "base_uri": "https://localhost:8080/"
        },
        "id": "kqbFzxhL0FPN",
        "outputId": "4cb9496f-2890-4963-935d-76a1162cb973"
      },
      "execution_count": 11,
      "outputs": [
        {
          "output_type": "execute_result",
          "data": {
            "text/plain": [
              "(array([71,  6, 95, 59, 38, 16, 62, 70, 58, 35]),\n",
              " [36, 81, 52, 30, 83, 55, 18, 5, 4, 49])"
            ]
          },
          "metadata": {},
          "execution_count": 11
        }
      ]
    },
    {
      "cell_type": "code",
      "source": [
        "\"\"\"5. Write a Python function to calculate the range of a dataset.\"\"\"\n",
        "def calculate_range(data):\n",
        "   return np.max(data) - np.min(data)\n",
        "range_value = calculate_range(data)\n",
        "print(\"Range of dataset:\", range_value)"
      ],
      "metadata": {
        "colab": {
          "base_uri": "https://localhost:8080/"
        },
        "id": "ee4bZT491c1R",
        "outputId": "e4f3f311-e170-493a-8088-aa4c10d99147"
      },
      "execution_count": 19,
      "outputs": [
        {
          "output_type": "stream",
          "name": "stdout",
          "text": [
            "Range of dataset: 99\n"
          ]
        }
      ]
    },
    {
      "cell_type": "code",
      "source": [
        "\"\"\"6. Create a dataset and plot its histogram to visualize skewness.\"\"\"\n",
        "import matplotlib.pyplot as plt\n",
        "data = np.random.normal(0,1,1000)\n",
        "plt.hist(data,bins=30)\n",
        "plt.title('Histogram of Data')\n",
        "plt.show()"
      ],
      "metadata": {
        "colab": {
          "base_uri": "https://localhost:8080/",
          "height": 452
        },
        "id": "V1IBjFvx4i9B",
        "outputId": "bd981440-9f06-4aa1-8e8b-c561fbbd32f5"
      },
      "execution_count": 20,
      "outputs": [
        {
          "output_type": "display_data",
          "data": {
            "text/plain": [
              "<Figure size 640x480 with 1 Axes>"
            ],
            "image/png": "[encoded data removed]"
          },
          "metadata": {}
        }
      ]
    },
    {
      "cell_type": "code",
      "source": [
        "\"\"\" 7.Calculate skewness and kurtosis of a dataset using Python libraries.\"\"\"\n",
        "from scipy.stats import skew,kurtosis\n",
        "\n",
        "skewness = skew(data)\n",
        "kurt = kurtosis(data)\n",
        "skewness,kurt"
      ],
      "metadata": {
        "colab": {
          "base_uri": "https://localhost:8080/"
        },
        "id": "txQ12uuV79Dj",
        "outputId": "32e39405-eb25-4e88-d337-3552b26f9266"
      },
      "execution_count": 22,
      "outputs": [
        {
          "output_type": "execute_result",
          "data": {
            "text/plain": [
              "(np.float64(0.01200583120497172), np.float64(-0.07607031716221169))"
            ]
          },
          "metadata": {},
          "execution_count": 22
        }
      ]
    },
    {
      "cell_type": "code",
      "source": [
        "\"\"\"8. Generate a dataset and demonstrate positive and negative skewness.\"\"\"\n",
        "import numpy as np\n",
        "import matplotlib.pyplot as plt\n",
        "import seaborn as sns\n",
        "from scipy.stats import skew\n",
        "np.random.seed(0)\n",
        "data_pos_skew = np.random.exponential(scale=2.0, size=1000)\n",
        "data_neg_skew = -np.random.exponential(scale=1.0, size=1000)\n",
        "plt.figure(figsize=(14, 6))\n",
        "\n",
        "# Positive skew\n",
        "plt.subplot(1, 2, 1)\n",
        "sns.histplot(data_pos_skew, kde=True, color='skyblue', bins=30)\n",
        "plt.title(f'Positive Skew (Skewness = {skew(data_pos_skew):.2f})')\n",
        "plt.xlabel('Value')\n",
        "plt.ylabel('Frequency')\n",
        "\n",
        "# Negative skew\n",
        "plt.subplot(1, 2, 2)\n",
        "sns.histplot(data_neg_skew, kde=True, color='salmon', bins=30)\n",
        "plt.title(f'Negative Skew (Skewness = {skew(data_neg_skew):.2f})')\n",
        "plt.xlabel('Value')\n",
        "plt.ylabel('Frequency')\n",
        "\n",
        "plt.tight_layout()\n",
        "plt.show()"
      ],
      "metadata": {
        "colab": {
          "base_uri": "https://localhost:8080/",
          "height": 492
        },
        "id": "W7ZVSOMC8uFl",
        "outputId": "86667925-94d3-4ac5-897a-ffca30a52880"
      },
      "execution_count": 24,
      "outputs": [
        {
          "output_type": "display_data",
          "data": {
            "text/plain": [
              "<Figure size 1400x600 with 2 Axes>"
            ],
            "image/png": "[encoded data removed]"
          },
          "metadata": {}
        }
      ]
    },
    {
      "cell_type": "code",
      "source": [
        "\"\"\"9. Write a Python script to calculate covariance between two datasets.\"\"\"\n",
        "x = [10,20,30]\n",
        "y = [12,24,36]\n",
        "covariance = np.cov(x,y)[0],[1]\n",
        "covariance"
      ],
      "metadata": {
        "colab": {
          "base_uri": "https://localhost:8080/"
        },
        "id": "VCgQjEsrQKIz",
        "outputId": "cfd03d6e-d68f-406a-e2a4-4c60f2920e18"
      },
      "execution_count": 25,
      "outputs": [
        {
          "output_type": "execute_result",
          "data": {
            "text/plain": [
              "(array([100., 120.]), [1])"
            ]
          },
          "metadata": {},
          "execution_count": 25
        }
      ]
    },
    {
      "cell_type": "code",
      "source": [
        "\"\"\"10.  Write a Python script to calculate the correlation coefficient between two datasets.\"\"\"\n",
        "correlation = np.corrcoef(x,y)[0][1]\n",
        "correlation"
      ],
      "metadata": {
        "colab": {
          "base_uri": "https://localhost:8080/"
        },
        "id": "hZrSapZSQeNq",
        "outputId": "4d4dd7ab-13c0-47f4-8dbf-2456e646ca51"
      },
      "execution_count": 27,
      "outputs": [
        {
          "output_type": "execute_result",
          "data": {
            "text/plain": [
              "np.float64(1.0)"
            ]
          },
          "metadata": {},
          "execution_count": 27
        }
      ]
    },
    {
      "cell_type": "code",
      "source": [
        "\"\"\"11.  Create a scatter plot to visualize the relationship between two variables.\"\"\"\n",
        "plt.scatter(x,y)\n",
        "plt.title('Scatter Plot')\n",
        "plt.xlabel('X')\n",
        "plt.ylabel('Y')\n",
        "plt.show()"
      ],
      "metadata": {
        "colab": {
          "base_uri": "https://localhost:8080/",
          "height": 472
        },
        "id": "4M9FwPiEQsI6",
        "outputId": "5f7a7958-8b15-49c4-d481-68cbf6ed5268"
      },
      "execution_count": 28,
      "outputs": [
        {
          "output_type": "display_data",
          "data": {
            "text/plain": [
              "<Figure size 640x480 with 1 Axes>"
            ],
            "image/png": "[encoded data removed]"
          },
          "metadata": {}
        }
      ]
    },
    {
      "cell_type": "code",
      "source": [
        "\"\"\"12.  Implement and compare simple random sampling and systematic sampling.\"\"\"\n",
        "simple_random = np.random.choice(data,10,replace = False)\n",
        "interval = len(data)\n",
        "systematic_sample = [data[i] for i in range (0, len(data), interval)]\n",
        "simple_random, systematic_sample"
      ],
      "metadata": {
        "colab": {
          "base_uri": "https://localhost:8080/"
        },
        "id": "nHawOFfzRCFH",
        "outputId": "2fc1bc31-b718-43d6-fc2f-08493dc1de4e"
      },
      "execution_count": 31,
      "outputs": [
        {
          "output_type": "execute_result",
          "data": {
            "text/plain": [
              "(array([-0.58671939,  0.39549118,  0.6796463 ,  1.47754661, -0.94931848,\n",
              "        -0.36068922, -1.37032219,  0.30042903, -2.47224064, -0.39444714]),\n",
              " [np.float64(0.3751432497577388)])"
            ]
          },
          "metadata": {},
          "execution_count": 31
        }
      ]
    },
    {
      "cell_type": "code",
      "source": [
        "\"\"\"13.  Calculate the mean, median, and mode of grouped data.\"\"\"\n",
        "import numpy as np\n",
        "from scipy import stats\n",
        "grouped_data = [5,10,10,15,20]\n",
        "mean = np.mean(grouped_data)\n",
        "median = np.median(grouped_data)\n",
        "mode = stats.mode(grouped_data)\n",
        "print(mean)\n",
        "print(median)\n",
        "print(mode)"
      ],
      "metadata": {
        "colab": {
          "base_uri": "https://localhost:8080/"
        },
        "id": "7H3YkpllRlnq",
        "outputId": "f65cc5c1-c057-4792-8592-07c3df9ba25f"
      },
      "execution_count": 2,
      "outputs": [
        {
          "output_type": "stream",
          "name": "stdout",
          "text": [
            "12.0\n",
            "10.0\n",
            "ModeResult(mode=np.int64(10), count=np.int64(2))\n"
          ]
        }
      ]
    },
    {
      "cell_type": "code",
      "source": [
        "\"\"\" 14. Simulate data using Python and calculate its central tendency and dispersion.\"\"\"\n",
        "sim_data = np.random.normal(0,1,1000)\n",
        "mean = np.mean(sim_data)\n",
        "median = np.median(sim_data)\n",
        "std_dev = np.std(sim_data)\n",
        "print(mean)\n",
        "print(median)\n",
        "print(std_dev)"
      ],
      "metadata": {
        "colab": {
          "base_uri": "https://localhost:8080/"
        },
        "id": "sk9huq4NRDz3",
        "outputId": "a354a399-2e38-47cc-a5ca-2940c230b13b"
      },
      "execution_count": 3,
      "outputs": [
        {
          "output_type": "stream",
          "name": "stdout",
          "text": [
            "0.03991729504595561\n",
            "0.07683216745753446\n",
            "0.9677301936536515\n"
          ]
        }
      ]
    },
    {
      "cell_type": "code",
      "source": [
        "\"\"\"15 .Use NumPy or pandas to summarize a dataset’s descriptive statistics.\"\"\"\n",
        "import pandas as pd\n",
        "df = pd.DataFrame(sim_data, columns = ['Values'])\n",
        "summary = df.describe()\n",
        "print(summary)"
      ],
      "metadata": {
        "colab": {
          "base_uri": "https://localhost:8080/"
        },
        "id": "PqBn_T6mRd_l",
        "outputId": "d9b76222-8318-4518-9086-5925fca611ec"
      },
      "execution_count": 6,
      "outputs": [
        {
          "output_type": "stream",
          "name": "stdout",
          "text": [
            "            Values\n",
            "count  1000.000000\n",
            "mean      0.039917\n",
            "std       0.968214\n",
            "min      -3.031640\n",
            "25%      -0.604720\n",
            "50%       0.076832\n",
            "75%       0.651531\n",
            "max       3.468829\n"
          ]
        }
      ]
    },
    {
      "cell_type": "code",
      "source": [
        "\"\"\" 16.Plot a boxplot to understand the spread and identify outliers.\"\"\"\n",
        "import matplotlib.pyplot as plt\n",
        "\n",
        "plt.boxplot(sim_data)\n",
        "plt.title('Boxplot')\n",
        "plt.show()"
      ],
      "metadata": {
        "colab": {
          "base_uri": "https://localhost:8080/",
          "height": 452
        },
        "id": "CXou9EQXRzV7",
        "outputId": "a99c6b40-0b6a-4d5d-d7fd-c181970796b0"
      },
      "execution_count": 8,
      "outputs": [
        {
          "output_type": "display_data",
          "data": {
            "text/plain": [
              "<Figure size 640x480 with 1 Axes>"
            ],
            "image/png": "[encoded data removed]"
          },
          "metadata": {}
        }
      ]
    },
    {
      "cell_type": "code",
      "source": [
        "\"\"\"17. Calculate the interquartile range (IQR) of a dataset.\"\"\"\n",
        "Q1 = np.percentile(sim_data, 25)\n",
        "Q3 = np.percentile(sim_data, 75)\n",
        "IQR = Q3 - Q1\n",
        "IQR"
      ],
      "metadata": {
        "colab": {
          "base_uri": "https://localhost:8080/"
        },
        "id": "komEYO3QSLET",
        "outputId": "e3f1f132-6e4c-4396-ab3f-3eed422d95e7"
      },
      "execution_count": 9,
      "outputs": [
        {
          "output_type": "execute_result",
          "data": {
            "text/plain": [
              "np.float64(1.2562513296108344)"
            ]
          },
          "metadata": {},
          "execution_count": 9
        }
      ]
    },
    {
      "cell_type": "code",
      "source": [
        "\"\"\"18.  Implement Z-score normalization and explain its significance.\"\"\"\n",
        "import numpy as np\n",
        "import pandas as pd\n",
        "from scipy.stats import zscore\n",
        "z_scores = (sim_data - np.mean(sim_data)) / np.std(sim_data)\n",
        "print(z_scores)"
      ],
      "metadata": {
        "colab": {
          "base_uri": "https://localhost:8080/"
        },
        "id": "GK6vYSdHSdRY",
        "outputId": "bbb0412f-3aee-4dd5-b885-6e626133b5ae"
      },
      "execution_count": 10,
      "outputs": [
        {
          "output_type": "stream",
          "name": "stdout",
          "text": [
            "[-7.02149154e-01  1.02583291e-01  1.58541677e-02  7.21875077e-01\n",
            " -1.80002198e-01  1.71042439e-01  8.05845221e-01  1.34073081e+00\n",
            "  3.41114314e-01  8.88511103e-02 -1.02429999e+00 -4.48279178e-01\n",
            "  6.36390114e-01 -6.26323702e-01 -8.12100606e-01 -2.10478028e+00\n",
            "  9.23739120e-01 -1.18825259e+00  1.00219558e+00 -7.45154380e-01\n",
            " -4.84043299e-01  2.22505565e-01  2.94288562e-01 -1.03980624e+00\n",
            " -7.26547475e-02 -2.29738057e-01  1.56704672e+00  1.07278456e+00\n",
            " -2.06100258e-02 -8.44448197e-02  1.03629798e+00  1.89239735e+00\n",
            "  2.29732937e-01  1.22693845e+00 -5.17629119e-01 -3.56597204e-02\n",
            " -9.02951114e-01  1.94125748e+00 -4.70098941e-01  3.35700203e-01\n",
            "  6.34114994e-02  1.14059271e+00  1.25559235e+00 -1.42601377e+00\n",
            " -1.30680318e+00 -2.20834295e-02 -4.83304043e-01  7.01592764e-01\n",
            " -3.38515159e-01  5.25063817e-01  3.99616719e-01 -1.05849746e+00\n",
            " -1.05193499e-01  6.87874568e-01  1.75591085e-01 -1.26242839e+00\n",
            " -2.08233068e+00 -4.48686549e-01 -4.18224972e-01 -3.64804697e-01\n",
            " -1.08294799e+00  4.12011917e-01  4.34747249e-01  6.58987603e-01\n",
            " -1.55914838e-01  3.20678247e-01  8.87723967e-01 -1.57425056e+00\n",
            " -2.51926799e-02  7.99646628e-02 -1.31765172e+00 -4.48724002e-01\n",
            " -7.04814568e-01  1.13102546e-01 -1.37072098e-01  1.09995176e+00\n",
            "  6.52852797e-01  2.24801705e+00  6.79847131e-01 -3.55111011e-01\n",
            " -4.51469682e-01  3.08041724e-01  1.65402343e+00 -5.38683609e-01\n",
            " -1.48474185e+00  4.05682606e-01  5.52667934e-01  1.28039326e-01\n",
            "  1.40315022e+00  1.73368694e+00 -1.53015912e+00 -1.69532506e+00\n",
            "  3.21584670e-01 -2.08612776e-01 -1.42814673e-01  7.90976709e-01\n",
            " -5.71481788e-02 -8.08005809e-02  2.35059981e+00  2.95862158e-01\n",
            "  3.15574678e-01  3.93494613e-01 -2.60432626e+00 -1.66549927e+00\n",
            " -5.92035409e-01  1.18866825e+00 -1.11667796e+00 -6.83910267e-01\n",
            " -3.50225261e-01 -3.10144451e-01 -3.22044566e-01  4.70716195e-01\n",
            " -1.24949369e+00  1.60535134e+00  1.06385470e+00 -2.39519572e+00\n",
            "  1.11321164e-01 -1.23658629e+00 -9.77046760e-01 -1.04878834e+00\n",
            " -5.49438291e-01  2.35811748e-01 -3.05735888e-01 -5.79109655e-01\n",
            "  1.90711511e+00 -8.20347218e-01 -9.31634741e-01  1.90535743e-01\n",
            "  6.80690242e-01 -7.15541825e-01  8.63953292e-01 -1.11408039e+00\n",
            " -4.17042982e-01 -2.82613351e+00 -1.01466518e+00  6.13167877e-01\n",
            "  8.06970793e-01  1.13813675e+00  1.17262815e+00  4.74653554e-01\n",
            "  8.07157839e-01  3.82276097e-01  1.05345528e+00  1.05685745e+00\n",
            " -2.98384945e+00 -4.11663658e-01  1.46559776e+00  3.41047767e-01\n",
            " -1.31548642e+00 -9.37954132e-02  4.08347647e-01 -7.84279507e-02\n",
            "  3.49217990e-01  6.86267055e-01  2.18147198e-01  5.63702769e-01\n",
            " -6.19487741e-01 -1.63405741e-01 -3.81227575e-01 -1.02984607e+00\n",
            " -1.49759788e+00 -1.67859543e+00  2.14347530e+00  4.70367267e-01\n",
            " -3.90828641e-01  1.46295886e+00  6.92523082e-01 -3.94388205e-01\n",
            " -3.74375147e-01 -7.83415961e-01 -6.89928236e-01  9.20232596e-01\n",
            "  3.94003840e-01  8.00912455e-01  5.90496641e-01  1.62231570e+00\n",
            " -8.23634163e-01 -1.28578860e+00  1.31273079e-01  6.45266352e-01\n",
            " -2.17624539e+00 -5.46648036e-01  1.38042897e+00  1.44421241e+00\n",
            "  1.45756664e-01  1.02668692e+00 -3.68648867e-01  3.68885880e-02\n",
            "  1.36734201e+00 -2.04156680e-01  6.76906961e-01 -1.72323636e+00\n",
            " -3.28146331e-01 -3.47799922e-01  4.75926730e-02 -7.96898557e-01\n",
            "  2.61870964e-01  8.50146983e-01 -1.87866434e+00 -2.03358770e-02\n",
            " -5.25576183e-01  1.79767895e+00  7.63939585e-01  1.65723112e+00\n",
            "  8.10396690e-01  6.62383466e-01  1.26481392e+00 -3.70128094e-01\n",
            " -1.56424473e+00 -1.03002485e-01 -2.74180527e-01  1.74030164e+00\n",
            " -7.29419398e-01  2.05609342e+00 -5.06647552e-01 -3.76824247e-01\n",
            "  3.54325221e+00 -7.92209587e-01 -9.10341706e-01  7.45939498e-01\n",
            "  9.09739885e-02  5.02027084e-01 -7.50456479e-01 -1.14849551e+00\n",
            "  1.68835643e+00 -3.61047418e-01  1.00480567e+00 -2.98056249e+00\n",
            " -6.59534669e-01 -9.32964460e-03  1.23242089e+00  1.03610346e+00\n",
            "  1.22012896e-02 -1.19269421e+00  2.42961147e-01 -7.78784695e-01\n",
            "  5.00102504e-01 -9.08707303e-01 -3.37590361e-01  9.59423269e-01\n",
            " -4.30183993e-02 -1.40852537e+00  9.80572937e-01  1.49894710e+00\n",
            " -9.60315120e-01 -1.14626782e+00 -1.52852303e+00  4.36819763e-01\n",
            "  3.52100494e-01 -2.29950367e-01 -1.41706503e+00  8.44488453e-01\n",
            " -1.87090273e-02  1.06880457e-01  1.81441975e-01  9.11698955e-02\n",
            " -3.87006578e-01  7.06070869e-01  1.74357241e-01  1.64604497e-01\n",
            "  5.19066466e-01  7.67137524e-01 -3.88461785e-01  1.71995790e+00\n",
            " -1.07237201e+00 -5.81565805e-01  4.33506224e-01 -1.00018883e-01\n",
            "  3.11712634e-01 -8.37809489e-01 -1.04846857e+00 -1.42322924e+00\n",
            " -1.90831133e-01  1.94514462e-01  5.38480411e-01  2.69243382e-01\n",
            " -1.25965666e+00  7.10729215e-01  8.40091262e-02 -1.76400654e-01\n",
            "  5.91035360e-02 -7.78198962e-01 -2.07058705e+00 -8.54367414e-01\n",
            " -3.77129446e-01  3.86104090e-01 -1.08470700e+00  7.37614696e-01\n",
            " -2.54680426e-01 -3.16987534e+00 -2.35618665e-01  7.02252018e-01\n",
            " -3.05552466e-01  1.97408834e-01  5.43335235e-01 -3.21689197e-01\n",
            " -6.36345772e-01 -1.61034630e+00  3.94030740e-02  3.02623100e-01\n",
            " -3.17398107e+00  3.49906814e-01  1.97169285e+00 -1.42323206e+00\n",
            " -1.17740014e+00  1.47269446e+00 -1.39444768e+00  9.36028268e-01\n",
            "  1.21399046e+00  1.02795922e+00 -7.32931238e-01 -1.90568133e-01\n",
            " -1.15554094e+00  7.88383782e-03 -5.62444251e-01  1.19924537e+00\n",
            "  1.04281928e+00 -9.57213759e-01  1.91951551e-01 -2.42416706e-01\n",
            " -4.06811000e-02 -1.41539346e+00  1.16163961e+00 -2.72347445e-01\n",
            "  5.26347242e-02  2.02391693e+00  2.85649655e+00 -5.76668198e-01\n",
            " -1.06026999e+00 -6.56090804e-01 -7.99703251e-01  1.35862070e+00\n",
            " -9.37614468e-01 -8.58722621e-01  4.85079483e-01  9.65912525e-02\n",
            "  2.94318616e-01 -1.54519406e+00  6.52731086e-01  1.29541951e+00\n",
            "  4.55242310e-01 -9.54345158e-01 -1.74908610e+00  5.48598551e-01\n",
            " -1.82257605e+00  1.47142772e+00 -1.59248587e-01  1.18574910e+00\n",
            " -4.14397445e-01  4.79187897e-01 -4.83355981e-01 -1.99101538e+00\n",
            " -6.77746291e-01 -9.14682050e-01 -1.48040301e+00  1.62694540e+00\n",
            "  1.51785966e+00 -1.24702945e+00 -2.80556813e-01  2.81613956e-01\n",
            "  1.82363496e+00 -1.20324436e+00 -8.12168900e-01  2.64580944e-01\n",
            " -1.17370153e+00 -6.27876023e-01  1.36968272e+00  1.79344947e+00\n",
            " -1.96180001e+00  5.84027782e-01 -1.39810869e-01 -1.65491508e-01\n",
            " -2.42049100e+00  2.30868401e+00 -1.00659814e+00 -8.02153504e-01\n",
            " -9.61806477e-01  2.16086429e-02  2.74287853e+00 -1.96269051e-01\n",
            "  1.03585416e+00  4.18043014e-01 -6.63798638e-01 -1.17974586e+00\n",
            "  6.25688007e-01 -8.99241380e-01 -3.83151073e-01 -1.17027930e+00\n",
            "  1.14605926e+00  9.63616818e-01  2.77382191e-01 -1.05058395e+00\n",
            " -9.45924289e-01 -2.78408838e-02  1.11353198e+00 -2.17775990e-01\n",
            "  3.80681684e-01 -1.35377342e+00 -9.49981437e-01  9.68186484e-02\n",
            "  5.10321479e-01  1.04178805e+00  2.46399420e-01 -2.13402549e-01\n",
            "  9.27720529e-01 -4.57848099e-01  1.71039361e-01 -3.62949889e-01\n",
            "  2.20008111e+00 -2.43000248e-01  2.52165954e+00 -7.63934653e-01\n",
            "  2.77345509e-01  9.94306073e-01  5.33573723e-01  1.80549810e-01\n",
            "  5.00778640e-02 -2.37701821e+00 -1.23903500e+00 -8.51856508e-01\n",
            "  9.79915992e-01  7.50341702e-01 -2.28267658e+00  2.04550103e-01\n",
            " -3.39709411e-01 -3.76776849e-01 -1.72843476e+00 -4.11441022e-02\n",
            " -5.20068096e-01  1.36530769e+00 -8.47203203e-01 -4.62668014e-01\n",
            " -2.31396077e+00 -2.66562870e-01  8.94113431e-01  1.41934425e+00\n",
            " -2.67246405e-02 -1.03987609e-01  1.17471901e+00  3.01614737e-02\n",
            " -6.58645422e-01  1.90565069e-02  2.66295083e-01 -5.61912413e-01\n",
            " -6.44796934e-01  8.97496769e-01  2.39565285e-01 -3.14476188e-01\n",
            "  8.17608562e-01 -7.67119538e-01 -5.39079344e-01 -2.24176184e-02\n",
            "  2.03099483e-01 -1.08607483e+00  5.68493987e-01 -1.12645256e+00\n",
            " -3.46987658e-01 -3.18327259e-01 -1.81337660e+00 -5.85756156e-01\n",
            " -9.12038944e-02  1.61124473e-01  2.17164444e+00  5.01988303e-01\n",
            " -1.04700221e+00 -1.82805604e+00  1.38920459e+00  5.85535587e-02\n",
            " -8.97555956e-01 -9.77284425e-01  6.51770296e-01 -9.82738129e-01\n",
            "  1.02043966e+00 -9.85705493e-02 -1.67517728e+00 -2.69690802e-01\n",
            "  4.97230206e-01 -6.85951257e-01 -4.84146432e-01 -3.19089649e-01\n",
            "  8.98638546e-01  7.86824858e-01  4.23648518e-01  1.72229210e-01\n",
            " -1.16559124e+00 -2.22972963e+00 -3.69280546e-01  1.64843355e+00\n",
            "  5.04029773e-01 -1.40275434e-01  6.11227918e-01 -2.26660701e+00\n",
            " -4.36443474e-01 -1.29596558e+00  2.35619556e-01  1.62696085e+00\n",
            " -3.10167198e-01  2.06169754e-01  6.09037365e-01  7.02061149e-01\n",
            " -1.01984692e+00  3.81665556e-01 -8.39589487e-01 -5.47077008e-01\n",
            "  4.69719695e-01 -6.06620298e-02 -3.11177889e-01  1.67621809e+00\n",
            "  3.73921914e-01  1.02859787e+00  5.84530985e-01  9.92813781e-01\n",
            " -1.02857778e+00 -2.53520284e+00 -1.28782999e-01  8.94192521e-01\n",
            " -8.00482462e-01  2.42002902e-02  5.21799298e-01  1.52309076e+00\n",
            " -1.01436076e+00 -2.43743374e-01 -7.15454167e-01 -4.31101606e-01\n",
            "  2.47175405e-01  1.75157510e-01  1.61906726e-01  7.32869449e-01\n",
            "  2.39516467e-01  1.26124050e+00 -5.73016515e-01 -1.21750315e+00\n",
            " -4.45689203e-01  4.64496706e-01  4.66976315e-01  4.51163802e-01\n",
            " -8.75105231e-01 -1.76091968e+00  5.75443863e-02 -1.59371856e+00\n",
            "  1.31299640e-01 -1.43143929e+00  4.87132070e-01  5.76095506e-01\n",
            " -9.40132736e-02 -1.13876084e+00  5.41329885e-01 -4.14660830e-01\n",
            " -3.72688674e-01 -1.13754046e+00 -8.30398622e-01 -1.54785628e-01\n",
            "  2.04482937e-01 -3.40735818e-01  1.58390979e+00 -7.98166467e-01\n",
            "  1.69520756e+00 -1.43231297e+00  7.61770648e-01 -5.63493511e-01\n",
            " -2.09301793e-01  1.23573219e-01  1.74639021e+00  2.76185262e-02\n",
            " -9.94796813e-01  5.47309931e-01  5.62680547e-01  9.10342042e-01\n",
            "  1.52645683e+00  2.70040671e-01  6.28162182e-01  2.60526283e-01\n",
            "  1.15197054e+00 -6.04545065e-02 -6.17073982e-01 -2.14788667e+00\n",
            " -1.46037860e+00  3.90417798e-01  1.31918650e+00 -3.83000421e-01\n",
            " -5.88415515e-01 -2.81027867e-01 -1.20363204e+00  4.78710423e-01\n",
            "  1.96040699e+00  1.49895886e+00 -1.59008465e+00  9.50621166e-01\n",
            " -1.07097613e+00  2.00596442e-01  2.62081810e-01  1.72719761e+00\n",
            " -1.16330097e-01 -1.79287601e+00  1.58519371e+00  1.18321729e+00\n",
            " -1.06781368e-01 -8.74535858e-01  7.46993037e-01  2.65231168e-01\n",
            "  4.35528071e-01  3.90034829e-01 -4.59618415e-02  3.51950330e-01\n",
            "  6.61838514e-02  2.40589597e-01  2.95334579e-01  1.35902854e+00\n",
            " -7.46137996e-01  5.19211132e-01  6.27304570e-01  4.41296886e-01\n",
            "  7.12871567e-01 -1.36336754e-01  3.97837767e-02  1.85621748e-01\n",
            "  8.32927541e-01  4.95144168e-01 -5.46539453e-01  6.77073256e-01\n",
            " -2.64602864e-01 -8.40615965e-02  5.64365924e-01  2.45822816e-01\n",
            "  4.61680207e-02  1.32234395e+00  3.97232821e-01 -1.11796569e+00\n",
            " -8.23031119e-02  5.30831638e-01  1.29469724e+00  1.57985362e+00\n",
            " -1.24524682e+00  1.21428661e+00  5.82982226e-01 -4.00010208e-02\n",
            "  2.41656073e+00  9.52746450e-01 -5.14308680e-01  5.69795592e-02\n",
            "  6.39844774e-02  1.66765189e+00  1.43706549e-01  1.33469808e-01\n",
            " -4.72602850e-02 -3.47732061e-02  3.72503700e-01  5.82571667e-01\n",
            "  1.00415293e+00  6.76615005e-01 -4.73555347e-01  8.28855524e-01\n",
            " -6.34008436e-01  3.77715585e-01  4.49154458e-01  7.69687260e-01\n",
            " -7.69473336e-01 -1.45288258e+00  1.27938464e+00  3.42645259e-01\n",
            " -5.27338385e-01 -2.76029966e-01 -4.01380036e-01 -5.10319262e-02\n",
            " -4.34741899e-01  6.85853970e-01 -8.44734832e-01 -7.23844837e-01\n",
            "  8.03995374e-01  7.44941884e-01 -1.77280770e+00 -1.78638240e-01\n",
            " -2.33063294e+00 -3.95320947e-02  1.02796761e+00 -1.36023020e+00\n",
            "  4.61877965e-01  3.57644650e-01  7.67019123e-02  9.57028497e-01\n",
            " -9.87839399e-01  3.65146184e-01  1.66515417e-01  3.32163505e-01\n",
            " -1.35519140e+00 -1.30680354e+00 -5.29612143e-01  5.96295491e-01\n",
            "  1.28682241e+00  9.81697442e-01  1.31566463e+00 -1.16328268e-01\n",
            "  6.55381043e-01 -6.79331673e-01  9.83320277e-01 -3.85339441e-01\n",
            " -3.14163517e-01 -1.87536953e-01  1.32906890e+00 -4.56938269e-01\n",
            " -1.34703626e+00  1.48143648e+00  8.97253318e-03  1.47776296e+00\n",
            "  4.21928126e-01  4.25750720e-02  1.63401486e-01 -1.29114993e+00\n",
            "  1.21657391e+00  6.58056213e-01  2.25508974e+00  3.53945855e-01\n",
            " -2.86905983e-01 -7.22942468e-02 -5.28152931e-01 -9.77775244e-01\n",
            " -1.02305607e+00 -2.34816515e-01 -5.53004350e-01  8.91032942e-01\n",
            "  1.96322502e-01  2.80945739e-01 -1.22954426e+00  6.75502212e-01\n",
            "  3.42742635e-01 -1.84737451e+00  5.87081156e-01  6.37510133e-01\n",
            " -9.09136493e-01  2.58540133e-01 -8.11198999e-01 -1.19663216e+00\n",
            "  1.49946931e+00  2.01570249e-01  9.32835016e-01  2.73023137e-01\n",
            " -9.63171777e-01  2.49147319e-01 -6.07498704e-02  3.85885167e-01\n",
            " -5.33196835e-01  1.65553424e+00  3.50630738e-01  1.84218501e-02\n",
            "  1.86583466e-01 -1.02092923e+00 -7.28058640e-01 -6.70038263e-01\n",
            " -1.36698762e+00  7.44461582e-01 -3.73518161e-01  3.51054656e-01\n",
            " -9.09855651e-01  6.22993116e-01  2.34738851e-01  1.38590393e+00\n",
            "  2.69423641e+00 -3.82130040e-01 -7.23616498e-01 -9.28127141e-01\n",
            "  6.54781870e-01  2.92888841e-01 -1.40612867e+00  1.97689848e+00\n",
            " -1.37766739e+00  2.44357882e-01 -3.53840747e-01  1.16366496e+00\n",
            " -2.57179384e+00 -2.83218464e-02 -3.24823867e-01 -7.99276697e-01\n",
            "  1.06037891e+00  2.02279808e-01 -4.87137196e-01  3.59389854e-01\n",
            " -1.23980366e+00  6.42110407e-01 -4.42794860e-01 -7.67898813e-01\n",
            " -1.17994631e+00  1.13226817e+00 -1.10170707e+00  9.81287220e-01\n",
            "  8.27074830e-01 -3.16933952e+00  1.20656866e+00  2.76486565e-02\n",
            " -8.57354862e-01 -7.40987192e-01  1.55841935e-01 -4.34648854e-01\n",
            "  1.87294759e-01 -7.82001639e-02 -7.51445125e-01  1.40908813e+00\n",
            " -1.40449459e-01 -1.26066912e+00  2.05800573e+00 -1.52582131e+00\n",
            "  2.43496030e+00 -8.85438080e-01 -1.47712415e+00  6.87782687e-01\n",
            "  5.11890295e-01  4.58746271e-01 -6.64832202e-01 -2.66575193e-01\n",
            " -1.12342861e+00 -9.02841535e-01 -3.07623842e-01 -1.69047910e+00\n",
            " -9.53903784e-01  3.49097227e-02  6.50969433e-01  3.73403012e-01\n",
            "  4.63398131e-01  6.62803410e-01  1.02777962e+00 -9.43515611e-02\n",
            "  4.22135538e-01  2.06248312e+00  4.16777151e-01 -1.28157180e+00\n",
            "  1.50984229e+00  1.15877141e+00  1.00677414e+00  1.21672223e-01\n",
            "  8.43495540e-01  1.40804946e+00  6.91043440e-01  4.23839481e-01\n",
            " -9.50071868e-01  9.54485536e-02  1.48915626e+00 -4.12348621e-03\n",
            "  8.86085983e-02  3.31417792e-01  1.16172531e+00 -2.39651195e-02\n",
            "  1.54599045e-01  7.26156297e-01 -1.49909471e+00 -1.96225678e+00\n",
            " -5.86294295e-01  3.65375535e-01 -8.64350719e-01  3.45170394e-02\n",
            "  6.30547839e-01 -1.04080536e-01 -1.22297685e+00  5.37632419e-01\n",
            "  3.22308852e-01 -1.45325464e+00 -3.48712955e-01  3.53227718e-01\n",
            " -2.01516202e-01  5.25999484e-01  6.65331401e-01  7.03451363e-01\n",
            "  2.20898146e+00 -3.10293758e-01 -1.02368717e+00 -1.64996268e+00\n",
            "  1.74368243e+00  2.32006141e-01 -1.18525939e+00 -4.40021770e-02\n",
            "  1.07956210e+00 -1.02646063e+00  5.68865994e-01 -2.62112349e+00\n",
            " -6.47056244e-01  2.78288075e-01 -6.27818318e-01  1.43887667e+00\n",
            "  4.50080396e-01  5.39348840e-01  1.02551339e-01  1.21676402e+00\n",
            " -1.53088895e-01 -1.28868151e+00 -1.83821753e+00 -2.09482980e-01\n",
            "  3.26034574e-01 -2.06025387e-01  9.21155656e-01  6.37783800e-01\n",
            " -1.17897543e+00 -7.70474284e-01 -8.67262869e-01  2.60432045e-01\n",
            "  3.03815186e-01  1.45091032e+00  1.27391472e+00 -5.95106101e-01\n",
            "  8.11447914e-01 -2.93557701e-02 -4.17078880e-01 -6.04608053e-02\n",
            " -6.32488902e-02  1.00930726e+00 -1.69615188e+00  8.99670925e-02\n",
            " -2.47010520e-01  1.73256873e+00  5.77604857e-01  5.97600595e-01\n",
            " -5.36369455e-01  1.09523648e+00 -3.06300177e-01 -1.46602815e-01\n",
            " -3.47337727e-04 -1.25837389e+00  7.75575293e-01  4.43514157e-01\n",
            "  2.84389030e-01  2.04958037e-01 -3.38331760e-01  5.77432864e-01\n",
            " -8.98271726e-01  1.10497764e+00 -4.46526414e-02 -1.47582873e+00\n",
            " -8.96111310e-01 -1.38214678e+00  4.68500406e-01 -1.27948899e+00\n",
            " -2.67668873e-01  9.09331630e-01 -1.01099011e+00 -1.15977532e+00\n",
            " -9.32414871e-01  6.19106717e-01  3.79889109e-01 -2.06793923e+00\n",
            " -2.74268853e-01  4.91840100e-01 -2.07080570e+00 -5.62648791e-01\n",
            "  9.02916095e-01 -5.98956413e-01 -1.67817174e+00  3.88087299e-01\n",
            " -4.23872630e-01  1.37687823e+00 -1.56453729e-01  7.89810749e-01\n",
            "  3.69704249e-01 -1.07928798e+00  1.51530366e+00  1.29300370e+00\n",
            "  1.08160159e-01  1.38046389e+00  2.72103389e-01 -2.25432442e-01\n",
            " -9.47900402e-01  4.20360407e-01  2.15080885e+00  2.25805121e+00\n",
            " -1.13116958e+00  1.21789787e+00 -4.80087421e-01 -6.41175113e-01\n",
            " -6.19468577e-01 -1.27586029e+00 -5.01913586e-01  1.92204721e+00\n",
            "  1.14496465e-01  3.69954326e-01  3.36866105e+00  5.71502719e-01\n",
            " -1.35472735e+00  3.85008179e-01 -3.17112023e-01  7.52958642e-02\n",
            "  4.82940788e-01 -6.42343312e-01 -7.19822265e-01  2.62470480e-02\n",
            "  4.19121505e-01  1.38950283e+00  1.46974602e-01 -7.88984411e-01\n",
            " -5.58103899e-01  3.07230347e-01  1.86719036e+00  4.45089769e-01\n",
            "  2.74233330e-01  3.42670111e-01 -9.71460475e-01 -1.32026668e+00\n",
            "  1.05729017e+00 -1.39596620e+00 -3.17086132e-01 -2.48411600e+00\n",
            "  1.53118735e+00  1.94314340e+00  9.27711299e-01 -4.02833188e-02]\n"
          ]
        }
      ]
    },
    {
      "cell_type": "code",
      "source": [
        "\"\"\"19. Compare two datasets using their standard deviations.\"\"\"\n",
        "import numpy as np\n",
        "data_a = [50, 52, 48, 49, 51, 50, 50, 52]\n",
        "data_b = [30, 70, 25, 85, 60, 40, 90, 20]\n",
        "std_a = np.std(data_a, ddof=0)\n",
        "std_b = np.std(data_b, ddof=0)\n",
        "print(\"Standard Deviation of Dataset A:\", round(std_a, 2))\n",
        "print(\"Standard Deviation of Dataset B:\", round(std_b, 2))\n"
      ],
      "metadata": {
        "colab": {
          "base_uri": "https://localhost:8080/"
        },
        "id": "alv18yxTUuJt",
        "outputId": "5663204b-f328-4468-8692-1ff66f8cd47d"
      },
      "execution_count": 14,
      "outputs": [
        {
          "output_type": "stream",
          "name": "stdout",
          "text": [
            "Standard Deviation of Dataset A: 1.3\n",
            "Standard Deviation of Dataset B: 25.74\n"
          ]
        }
      ]
    },
    {
      "cell_type": "code",
      "source": [
        "\"\"\"20.  Write a Python program to visualize covariance using a heatmap.\"\"\"\n",
        "import seaborn as sns\n",
        "cov_matrix = np.cov(data1, data2)\n",
        "sns.heatmap(cov_matrix, annot= True)\n",
        "plt.title('Covariance Heatmap')\n",
        "plt.show()"
      ],
      "metadata": {
        "colab": {
          "base_uri": "https://localhost:8080/",
          "height": 452
        },
        "id": "NYQwSk7WVtmA",
        "outputId": "57b166f7-9aab-4fd8-b512-b3e3d635450b"
      },
      "execution_count": 15,
      "outputs": [
        {
          "output_type": "display_data",
          "data": {
            "text/plain": [
              "<Figure size 640x480 with 2 Axes>"
            ],
            "image/png": "[encoded data removed]"
          },
          "metadata": {}
        }
      ]
    },
    {
      "cell_type": "code",
      "source": [
        "\"\"\"21. Use seaborn to create a correlation matrix for a dataset.\"\"\"\n",
        "corr_matrix = np.corrcoef(data1, data2)\n",
        "sns.heatmap(cov_matrix, annot= True)\n",
        "plt.title('Covariance Matrix')\n",
        "plt.show()"
      ],
      "metadata": {
        "colab": {
          "base_uri": "https://localhost:8080/",
          "height": 452
        },
        "id": "DNWnn7iEXdxR",
        "outputId": "94b838f0-1b3a-401b-b65e-4b3a2f70519f"
      },
      "execution_count": 16,
      "outputs": [
        {
          "output_type": "display_data",
          "data": {
            "text/plain": [
              "<Figure size 640x480 with 2 Axes>"
            ],
            "image/png": "[encoded data removed]"
          },
          "metadata": {}
        }
      ]
    },
    {
      "cell_type": "code",
      "source": [
        "\"\"\"22. Generate a dataset and implement both variance and standard deviation computations.\"\"\"\n",
        "new_data = np.random.normal(0,1,1000)\n",
        "variance = np.var(new_data)\n",
        "std_dev= np.std(new_data)\n",
        "print(variance)\n",
        "print(std_dev)"
      ],
      "metadata": {
        "colab": {
          "base_uri": "https://localhost:8080/"
        },
        "id": "htJvKMvmX0OT",
        "outputId": "054bc1c6-fc9f-413b-8cb8-e541547918c7"
      },
      "execution_count": 17,
      "outputs": [
        {
          "output_type": "stream",
          "name": "stdout",
          "text": [
            "1.0348772491354976\n",
            "1.017289166921332\n"
          ]
        }
      ]
    },
    {
      "cell_type": "code",
      "source": [
        "\"\"\"23.  Visualize skewness and kurtosis using Python libraries like matplotlib or seaborn.\"\"\"\n",
        "fig, ax = plt.subplots(1,2, figsize= (12,6))\n",
        "sns.histplot(new_data, kde = True, ax = ax[0])\n",
        "ax[0].set_title('Histogram')\n",
        "ax[1].set_title('Boxplot')\n",
        "sns.boxplot(x=new_data, ax=ax[1])\n",
        "plt.show()"
      ],
      "metadata": {
        "colab": {
          "base_uri": "https://localhost:8080/",
          "height": 545
        },
        "id": "nugn-WqmYH-c",
        "outputId": "4b4e9577-6739-432b-e129-f2f7bad8e526"
      },
      "execution_count": 18,
      "outputs": [
        {
          "output_type": "display_data",
          "data": {
            "text/plain": [
              "<Figure size 1200x600 with 2 Axes>"
            ],
            "image/png": "[encoded data removed]"
          },
          "metadata": {}
        }
      ]
    },
    {
      "cell_type": "code",
      "source": [
        "\"\"\"24.  Implement the Pearson and Spearman correlation coefficients for a dataset.\"\"\"\n",
        "import pandas as pd\n",
        "from scipy.stats import pearsonr, spearmanr\n",
        "import numpy as np\n",
        "pearson_corr = stats.pearsonr(x,y)\n",
        "spearman_corr = stats.spearmanr(x,y)\n",
        "pearson_corr,spearman_corr"
      ],
      "metadata": {
        "id": "ryAP36JXZ7zx"
      },
      "execution_count": null,
      "outputs": []
    }
  ]
}